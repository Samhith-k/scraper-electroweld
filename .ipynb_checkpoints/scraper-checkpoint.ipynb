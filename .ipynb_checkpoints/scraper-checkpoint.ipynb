{
 "cells": [
  {
   "cell_type": "code",
   "execution_count": 49,
   "id": "044c4997",
   "metadata": {},
   "outputs": [],
   "source": [
    "import pandas as pd\n",
    "import numpy as np\n",
    "from openpyxl import load_workbook\n",
    "from openpyxl.utils.dataframe import dataframe_to_rows\n",
    "from openpyxl.worksheet.worksheet import Worksheet\n",
    "import os\n",
    "import datetime\n",
    "import re\n",
    "from tools_warehouse_scraper import get_toolswarehouse_price\n",
    "from kennedys_scraper import get_kennedys_price\n",
    "from vektools_scraper import get_vektools_price\n",
    "from sydney_tools_scraper import get_sydney_tools_price\n",
    "from selenium.webdriver.chrome.service import Service\n",
    "from webdriver_manager.chrome import ChromeDriverManager\n"
   ]
  },
  {
   "cell_type": "code",
   "execution_count": 51,
   "id": "8e32002a",
   "metadata": {},
   "outputs": [
    {
     "data": {
      "text/plain": [
       "Index(['BRAND', 'PRODUCT SKU', 'PRODUCT NAME', 'Shop Name', 'PRODUCT LINK',\n",
       "       'Note', 'BUNDLE LINK', 'Comment', 'Unnamed: 8', 'Unnamed: 9',\n",
       "       'Unnamed: 10', 'Unnamed: 11'],\n",
       "      dtype='object')"
      ]
     },
     "execution_count": 51,
     "metadata": {},
     "output_type": "execute_result"
    }
   ],
   "source": [
    "df = pd.read_excel('Pricing.xlsx',sheet_name=\"Sheet2\")\n",
    "df.columns"
   ]
  },
  {
   "cell_type": "code",
   "execution_count": 53,
   "id": "a8574e35",
   "metadata": {},
   "outputs": [],
   "source": [
    "df['PRODUCT SKU'] = df['PRODUCT SKU'].str.strip().str.upper()\n",
    "df['PRODUCT NAME'] = df['PRODUCT NAME'].str.strip().str.upper()\n",
    "df['Shop Name'] = df['Shop Name'].str.strip().str.upper()\n",
    "\n",
    "# Append ' EBAY' to \"Shop Name\" where it equals 'WA INDUSTRIAL SUPPLIES'\n",
    "df.loc[df['Shop Name'] == 'WA INDUSTRIAL SUPPLIES', 'Shop Name'] += ' EBAY'\n",
    "\n",
    "\n",
    "df_sub = df[['BRAND', 'PRODUCT SKU', 'PRODUCT NAME', 'Shop Name', 'PRODUCT LINK',\n",
    "       'Note', 'BUNDLE LINK', 'Comment']].copy()"
   ]
  },
  {
   "cell_type": "code",
   "execution_count": 55,
   "id": "dbed9f47",
   "metadata": {},
   "outputs": [
    {
     "data": {
      "text/html": [
       "<div>\n",
       "<style scoped>\n",
       "    .dataframe tbody tr th:only-of-type {\n",
       "        vertical-align: middle;\n",
       "    }\n",
       "\n",
       "    .dataframe tbody tr th {\n",
       "        vertical-align: top;\n",
       "    }\n",
       "\n",
       "    .dataframe thead th {\n",
       "        text-align: right;\n",
       "    }\n",
       "</style>\n",
       "<table border=\"1\" class=\"dataframe\">\n",
       "  <thead>\n",
       "    <tr style=\"text-align: right;\">\n",
       "      <th></th>\n",
       "      <th>BRAND</th>\n",
       "      <th>PRODUCT SKU</th>\n",
       "      <th>PRODUCT NAME</th>\n",
       "      <th>Shop Name</th>\n",
       "      <th>PRODUCT LINK</th>\n",
       "      <th>Note</th>\n",
       "      <th>BUNDLE LINK</th>\n",
       "      <th>Comment</th>\n",
       "    </tr>\n",
       "  </thead>\n",
       "  <tbody>\n",
       "    <tr>\n",
       "      <th>0</th>\n",
       "      <td>Unimig</td>\n",
       "      <td>U11005K</td>\n",
       "      <td>VIPER 135</td>\n",
       "      <td>ELECTROWELD WEBSITE</td>\n",
       "      <td>https://www.electroweld.com.au/product/unimig-...</td>\n",
       "      <td>NaN</td>\n",
       "      <td>NaN</td>\n",
       "      <td>NaN</td>\n",
       "    </tr>\n",
       "    <tr>\n",
       "      <th>1</th>\n",
       "      <td>Unimig</td>\n",
       "      <td>U11005K</td>\n",
       "      <td>VIPER 135</td>\n",
       "      <td>ELECTROWELD EBAY</td>\n",
       "      <td>https://www.ebay.com.au/itm/275880137475?itmme...</td>\n",
       "      <td>NaN</td>\n",
       "      <td>NaN</td>\n",
       "      <td>NaN</td>\n",
       "    </tr>\n",
       "    <tr>\n",
       "      <th>2</th>\n",
       "      <td>Unimig</td>\n",
       "      <td>U11005K</td>\n",
       "      <td>VIPER 135</td>\n",
       "      <td>HAMPDON EBAY</td>\n",
       "      <td>https://www.ebay.com.au/sch/i.html?_from=R40&amp;_...</td>\n",
       "      <td>NaN</td>\n",
       "      <td>NaN</td>\n",
       "      <td>NaN</td>\n",
       "    </tr>\n",
       "    <tr>\n",
       "      <th>3</th>\n",
       "      <td>Unimig</td>\n",
       "      <td>U11005K</td>\n",
       "      <td>VIPER 135</td>\n",
       "      <td>WA INDUSTRIAL SUPPLIES WEBSITE</td>\n",
       "      <td>https://www.waindustrialsupplies.net/product/v...</td>\n",
       "      <td>NaN</td>\n",
       "      <td>NaN</td>\n",
       "      <td>NaN</td>\n",
       "    </tr>\n",
       "    <tr>\n",
       "      <th>4</th>\n",
       "      <td>Unimig</td>\n",
       "      <td>U11005K</td>\n",
       "      <td>VIPER 135</td>\n",
       "      <td>WA INDUSTRIAL SUPPLIES EBAY</td>\n",
       "      <td>https://www.ebay.com.au/itm/186207493192?epid=...</td>\n",
       "      <td>NaN</td>\n",
       "      <td>NaN</td>\n",
       "      <td>NaN</td>\n",
       "    </tr>\n",
       "  </tbody>\n",
       "</table>\n",
       "</div>"
      ],
      "text/plain": [
       "    BRAND PRODUCT SKU PRODUCT NAME                       Shop Name  \\\n",
       "0  Unimig     U11005K    VIPER 135             ELECTROWELD WEBSITE   \n",
       "1  Unimig     U11005K    VIPER 135                ELECTROWELD EBAY   \n",
       "2  Unimig     U11005K    VIPER 135                    HAMPDON EBAY   \n",
       "3  Unimig     U11005K    VIPER 135  WA INDUSTRIAL SUPPLIES WEBSITE   \n",
       "4  Unimig     U11005K    VIPER 135     WA INDUSTRIAL SUPPLIES EBAY   \n",
       "\n",
       "                                        PRODUCT LINK Note BUNDLE LINK Comment  \n",
       "0  https://www.electroweld.com.au/product/unimig-...  NaN         NaN     NaN  \n",
       "1  https://www.ebay.com.au/itm/275880137475?itmme...  NaN         NaN     NaN  \n",
       "2  https://www.ebay.com.au/sch/i.html?_from=R40&_...  NaN         NaN     NaN  \n",
       "3  https://www.waindustrialsupplies.net/product/v...  NaN         NaN     NaN  \n",
       "4  https://www.ebay.com.au/itm/186207493192?epid=...  NaN         NaN     NaN  "
      ]
     },
     "execution_count": 55,
     "metadata": {},
     "output_type": "execute_result"
    }
   ],
   "source": [
    "# Forward fill only select columns\n",
    "df_sub[['BRAND', 'PRODUCT SKU','PRODUCT NAME']] = df_sub[['BRAND', 'PRODUCT SKU','PRODUCT NAME']].ffill()\n",
    "\n",
    "\n",
    "df_sub.head()"
   ]
  },
  {
   "cell_type": "code",
   "execution_count": 57,
   "id": "5a162e96",
   "metadata": {},
   "outputs": [
    {
     "data": {
      "text/html": [
       "<div>\n",
       "<style scoped>\n",
       "    .dataframe tbody tr th:only-of-type {\n",
       "        vertical-align: middle;\n",
       "    }\n",
       "\n",
       "    .dataframe tbody tr th {\n",
       "        vertical-align: top;\n",
       "    }\n",
       "\n",
       "    .dataframe thead th {\n",
       "        text-align: right;\n",
       "    }\n",
       "</style>\n",
       "<table border=\"1\" class=\"dataframe\">\n",
       "  <thead>\n",
       "    <tr style=\"text-align: right;\">\n",
       "      <th></th>\n",
       "      <th>Shop Name</th>\n",
       "      <th>PRODUCT LINK</th>\n",
       "    </tr>\n",
       "  </thead>\n",
       "  <tbody>\n",
       "    <tr>\n",
       "      <th>0</th>\n",
       "      <td>ELECTROWELD WEBSITE</td>\n",
       "      <td>https://www.electroweld.com.au/product/unimig-...</td>\n",
       "    </tr>\n",
       "    <tr>\n",
       "      <th>1</th>\n",
       "      <td>ELECTROWELD EBAY</td>\n",
       "      <td>https://www.ebay.com.au/itm/275880137475?itmme...</td>\n",
       "    </tr>\n",
       "    <tr>\n",
       "      <th>22</th>\n",
       "      <td>ELECTROWELD EBAY</td>\n",
       "      <td>https://www.ebay.com.au/itm/285104945700?itmme...</td>\n",
       "    </tr>\n",
       "    <tr>\n",
       "      <th>25</th>\n",
       "      <td>ELECTROWELD WEBSITE</td>\n",
       "      <td>https://www.electroweld.com.au/product/unimig-...</td>\n",
       "    </tr>\n",
       "    <tr>\n",
       "      <th>35</th>\n",
       "      <td>ELECTROWELD WEBSITE</td>\n",
       "      <td>https://www.electroweld.com.au/product/unimig-...</td>\n",
       "    </tr>\n",
       "    <tr>\n",
       "      <th>...</th>\n",
       "      <td>...</td>\n",
       "      <td>...</td>\n",
       "    </tr>\n",
       "    <tr>\n",
       "      <th>1033</th>\n",
       "      <td>ELECTROWELD EBAY</td>\n",
       "      <td>NaN</td>\n",
       "    </tr>\n",
       "    <tr>\n",
       "      <th>1061</th>\n",
       "      <td>ELECTROWELD WEBSITE</td>\n",
       "      <td>https://www.electroweld.com.au/product/unimig-...</td>\n",
       "    </tr>\n",
       "    <tr>\n",
       "      <th>1062</th>\n",
       "      <td>ELECTROWELD EBAY</td>\n",
       "      <td>https://www.ebay.com.au/itm/275214903410?_skw=...</td>\n",
       "    </tr>\n",
       "    <tr>\n",
       "      <th>1092</th>\n",
       "      <td>ELECTROWELD WEBSITE</td>\n",
       "      <td>NaN</td>\n",
       "    </tr>\n",
       "    <tr>\n",
       "      <th>1093</th>\n",
       "      <td>ELECTROWELD EBAY</td>\n",
       "      <td>https://www.ebay.com.au/itm/276821565411?_skw=...</td>\n",
       "    </tr>\n",
       "  </tbody>\n",
       "</table>\n",
       "<p>80 rows × 2 columns</p>\n",
       "</div>"
      ],
      "text/plain": [
       "                Shop Name                                       PRODUCT LINK\n",
       "0     ELECTROWELD WEBSITE  https://www.electroweld.com.au/product/unimig-...\n",
       "1        ELECTROWELD EBAY  https://www.ebay.com.au/itm/275880137475?itmme...\n",
       "22       ELECTROWELD EBAY  https://www.ebay.com.au/itm/285104945700?itmme...\n",
       "25    ELECTROWELD WEBSITE  https://www.electroweld.com.au/product/unimig-...\n",
       "35    ELECTROWELD WEBSITE  https://www.electroweld.com.au/product/unimig-...\n",
       "...                   ...                                                ...\n",
       "1033     ELECTROWELD EBAY                                                NaN\n",
       "1061  ELECTROWELD WEBSITE  https://www.electroweld.com.au/product/unimig-...\n",
       "1062     ELECTROWELD EBAY  https://www.ebay.com.au/itm/275214903410?_skw=...\n",
       "1092  ELECTROWELD WEBSITE                                                NaN\n",
       "1093     ELECTROWELD EBAY  https://www.ebay.com.au/itm/276821565411?_skw=...\n",
       "\n",
       "[80 rows x 2 columns]"
      ]
     },
     "execution_count": 57,
     "metadata": {},
     "output_type": "execute_result"
    }
   ],
   "source": [
    "#Example for Electroweld subset\n",
    "elctro = df_sub[df_sub['Shop Name'].str.contains('electroweld', case=False, na=False, regex=True)][['Shop Name','PRODUCT LINK']]\n",
    "\n",
    "elctro"
   ]
  },
  {
   "cell_type": "code",
   "execution_count": 6,
   "id": "53ab6ea2",
   "metadata": {},
   "outputs": [
    {
     "name": "stdout",
     "output_type": "stream",
     "text": [
      "AU $378.95\n"
     ]
    }
   ],
   "source": [
    "import httpx\n",
    "from parsel import Selector\n",
    "import numpy as np\n",
    "import pandas as pd\n",
    "\n",
    "def get_ebay_price(url: str) -> str:\n",
    "    \"\"\"\n",
    "    Given an eBay product URL, fetches the page and returns the original price.\n",
    "    If a timeout occurs, returns np.nan.\n",
    "    \"\"\"\n",
    "    # First check if url is a valid, non-empty string.\n",
    "    if pd.isna(url) or not isinstance(url, str) or url.strip() == \"\":\n",
    "        return np.nan\n",
    "\n",
    "    # Now safe to check length (though this is redundant with url.strip() check)\n",
    "    if len(url) == 0:\n",
    "        return -1\n",
    "    \n",
    "    # establish our HTTP2 client with browser-like headers\n",
    "    session = httpx.Client(\n",
    "        headers={\n",
    "            \"User-Agent\": \"Mozilla/5.0 (Windows NT 10.0; Win64; x64) AppleWebKit/537.36 (KHTML, like Gecko) Chrome/113.0.0.0 Safari/537.36 Edg/113.0.1774.35\",\n",
    "            \"Accept\": \"text/html,application/xhtml+xml,application/xml;q=0.9,image/avif,image/webp,image/apng,/;q=0.8,application/signed-exchange;v=b3;q=0.7\",\n",
    "            \"Accept-Language\": \"en-US,en;q=0.9\",\n",
    "            \"Accept-Encoding\": \"gzip, deflate, br\",\n",
    "        },\n",
    "        http2=True,\n",
    "        follow_redirects=True\n",
    "    )\n",
    "    \n",
    "    try:\n",
    "        # Fetch the webpage with an explicit timeout of 15 seconds.\n",
    "        response = session.get(url, timeout=15.0)\n",
    "    except httpx.ReadTimeout:\n",
    "        return np.nan\n",
    "    except Exception as e:\n",
    "        return np.nan\n",
    "\n",
    "    sel = Selector(response.text)\n",
    "    \n",
    "    # helper function to extract and strip text via CSS selectors\n",
    "    css = lambda query: sel.css(query).get(default=\"\").strip()\n",
    "    \n",
    "    # extract the original price\n",
    "    price_original = css(\".x-price-primary>span::text\")\n",
    "    \n",
    "    return price_original\n",
    "\n",
    "# Example usage:\n",
    "if __name__ == \"__main__\":\n",
    "    url = \"https://www.ebay.com.au/itm/275880137475?itmmeta=01J3RRGZ6RGRZ1PA0NB89D3ANK&hash=item403bbcd303:g:FG4AAOSwW1lmc0i2:sc:AU_RegularParcelWithTrackingAndSignature!2190!AU!-1&itmprp=enc%3AAQAJAAAA0Jo7zG6ZrYn%2F5GTELNdvHESu%2F8%2BPfiWY9kU--0LUo18ZDC%2BkIaIZvbRp1qI9So5TpISckKJtf4oGgV7V5XLYXMhG%2FLVX497kkF4F%2BcZyu0ELdaH4TYhi3PZ%2B%2BG7xxw75rLO07cwbga6GANQK6eH5xnlQBFG02TBJBi4CCfYH8LVydeSYVPiJ8rWQKbaKABcsxdxl%2B4uJjP6Ops8YFB%2BzE7T3l62OMSCzA63O1oEmgLiiOQySiIwlAiRx%2Fu3oj4L0GrlW2ZSPf1mHsjewL9BaDsQ%3D%7Ctkp%3ABk9SR7zzw5ieZA\"\n",
    "    print(get_ebay_price(url))\n"
   ]
  },
  {
   "cell_type": "code",
   "execution_count": 7,
   "id": "0b0fbd65-c42f-4ac1-86d5-5c61c18bb1c0",
   "metadata": {},
   "outputs": [
    {
     "name": "stdout",
     "output_type": "stream",
     "text": [
      "Product Price: 379.00\n"
     ]
    }
   ],
   "source": [
    "def get_electroweld_website_price(url: str) -> str:\n",
    "    \"\"\"\n",
    "    Fetch the product page from the given URL and return the product price as a string.\n",
    "    \"\"\"\n",
    "    if pd.isna(url) or not isinstance(url, str) or url.strip() == \"\":\n",
    "        return np.nan\n",
    "    if len(url) == 0:\n",
    "        return -1\n",
    "    if not url.startswith(\"https://www.electroweld.com.au/product/\"):\n",
    "        return -1\n",
    "    session = httpx.Client(\n",
    "        headers={\n",
    "            \"User-Agent\": \"Mozilla/5.0 (Windows NT 10.0; Win64; x64) AppleWebKit/537.36 \"\n",
    "                          \"(KHTML, like Gecko) Chrome/113.0.0.0 Safari/537.36\",\n",
    "            \"Accept\": \"text/html,application/xhtml+xml,application/xml;q=0.9,image/webp,*/*;q=0.8\",\n",
    "        },\n",
    "        follow_redirects=True\n",
    "    )\n",
    "    try:\n",
    "        response = session.get(url)\n",
    "    except httpx.ReadTimeout:\n",
    "        return np.nan\n",
    "    except Exception as e:\n",
    "        return np.nan\n",
    "    sel = Selector(response.text)\n",
    "    css = lambda query: sel.css(query).get(default=\"\").strip()\n",
    "    \n",
    "\n",
    "    # Extract the price text from the page.\n",
    "    price_text = css(\"p.w-post-elm.product_field.price span.woocommerce-Price-amount.amount bdi::text\")\n",
    "    # Remove a leading currency symbol if present.\n",
    "    if price_text.startswith(\"$\"):\n",
    "        price_text = price_text[1:]\n",
    "    return price_text\n",
    "\n",
    "url = \"https://www.electroweld.com.au/product/unimig-viper-135-multi-3-in-1-mig-tig-stick-welder-welding-torch-mma-u11005k/\"\n",
    "price = get_electroweld_website_price(url)\n",
    "print(\"Product Price:\", price)"
   ]
  },
  {
   "cell_type": "code",
   "execution_count": 8,
   "id": "3e456448-07b4-49d9-aaac-1fd427129de8",
   "metadata": {},
   "outputs": [
    {
     "name": "stdout",
     "output_type": "stream",
     "text": [
      "1,439.00\n"
     ]
    }
   ],
   "source": [
    "def get_bilba_website_price(url: str) -> str:\n",
    "\n",
    "    if pd.isna(url) or not isinstance(url, str) or url.strip() == \"\":\n",
    "        return np.nan\n",
    "    if len(url) == 0:\n",
    "        return np.nan\n",
    "    if not url.startswith(\"https://bilba.com.au/products\"):\n",
    "        return np.nan\n",
    "    \"\"\"\n",
    "    Fetch the product page from the given URL and return the product price as a string.\n",
    "    The price is extracted from a <span> element with class \"price-item price-item-regular\".\n",
    "    \"\"\"\n",
    "    # Create an HTTP client with appropriate headers.\n",
    "    with httpx.Client(\n",
    "        headers={\n",
    "            \"User-Agent\": (\"Mozilla/5.0 (Windows NT 10.0; Win64; x64) AppleWebKit/537.36 \"\n",
    "                           \"(KHTML, like Gecko) Chrome/113.0.0.0 Safari/537.36\"),\n",
    "            \"Accept\": \"text/html,application/xhtml+xml,application/xml;q=0.9,image/webp,*/*;q=0.8\",\n",
    "        },\n",
    "        follow_redirects=True\n",
    "    ) as client:\n",
    "        response = client.get(url)\n",
    "\n",
    "    # Use parsel to parse the HTML content.\n",
    "    sel = Selector(response.text)\n",
    "    \n",
    "    # Extract the price text from the <span> element.\n",
    "    price_text = sel.css(\"span.price-item.price-item-regular::text\").get(default=\"\").strip()\n",
    "    \n",
    "    # Optionally remove any leading currency symbol, if needed.\n",
    "    if price_text.startswith(\"$\"):\n",
    "        price_text = price_text[1:]\n",
    "        \n",
    "    return price_text\n",
    "url = \"https://bilba.com.au/products/unimig-razor-multi-175-welder?srsltid=AfmBOoqrcyItnYkdHvmmHMrp6Z7N-pFgOuiv_wJhyPmV19CKmUt5LIBi\"\n",
    "price = get_bilba_website_price(url)\n",
    "print( price)"
   ]
  },
  {
   "cell_type": "code",
   "execution_count": 9,
   "id": "04378537-657c-4921-8ca9-2352b323f55b",
   "metadata": {},
   "outputs": [
    {
     "name": "stdout",
     "output_type": "stream",
     "text": [
      "1199.00\n"
     ]
    }
   ],
   "source": [
    "def get_gentronics_website_price(url: str) -> str:\n",
    "    \"\"\"\n",
    "    Fetch the product page from the given URL and return the product price as a string.\n",
    "    The price is stored in a <p> element with class=\"gentronics-price price\".\n",
    "    \"\"\"\n",
    "    # Basic checks for URL validity\n",
    "    if pd.isna(url) or not isinstance(url, str) or url.strip() == \"\":\n",
    "        return np.nan\n",
    "    if len(url) == 0:\n",
    "        return np.nan\n",
    "    \n",
    "    # Check that the URL starts with the desired domain\n",
    "    if not url.startswith(\"https://www.googleadservices.com/pagead/aclk\") and not url.startswith(\"https://www.gentronics.com.au/\"):\n",
    "        return np.nan\n",
    "    \n",
    "    # Create an HTTP client with appropriate headers\n",
    "    session = httpx.Client(\n",
    "        headers={\n",
    "            \"User-Agent\": \"Mozilla/5.0 (Windows NT 10.0; Win64; x64) \"\n",
    "                          \"AppleWebKit/537.36 (KHTML, like Gecko) Chrome/113.0.0.0 Safari/537.36\",\n",
    "            \"Accept\": \"text/html,application/xhtml+xml,application/xml;q=0.9,image/webp,*/*;q=0.8\",\n",
    "        },\n",
    "        follow_redirects=True\n",
    "    )\n",
    "    \n",
    "    # Fetch the page\n",
    "    try:\n",
    "        response = session.get(url)\n",
    "    except:\n",
    "        return np.nan\n",
    "    sel = Selector(response.text)\n",
    "    \n",
    "    # Helper function for CSS selection\n",
    "    css = lambda query: sel.css(query).get(default=\"\").strip()\n",
    "    \n",
    "    # Extract the price text from <p class=\"gentronics-price price\">\n",
    "    price_text = css(\"p.gentronics-price.price::text\")\n",
    "    \n",
    "    # Remove a leading currency symbol if present\n",
    "    if price_text.startswith(\"$\"):\n",
    "        price_text = price_text[1:]\n",
    "    price_text = price_text.replace(\"per item\", \"\").strip()\n",
    "    \n",
    "    return price_text\n",
    "\n",
    "# Example usage\n",
    "if __name__ == \"__main__\":\n",
    "    test_url = (\n",
    "        \"https://www.googleadservices.com/pagead/aclk?sa=L&ai=DChcSEwjZ9uvXloaLAxU2qGYCHVOQD4oYABAEGgJzbQ&ae=2&aspm=1&co=1&ase=5&gclid=Cj0KCQiAhbi8BhDIARIsAJLOlufVl2KRd0vNv4v9hFa9sC_238MQii4XHsBkOTRn3QUpKMJwPGiQne4aAoLtEALw_wcB&ohost=www.google.com&cid=CAESVeD2k-VpUGbx3aGmilsMu45ZMV1Bprr20N9Gm98bkCSwJQ8jp06PNpCmx-boJX920KleNkC6xKJ8zDKPZs-bKKEYQsYqhnX8VLcD2NqlOMrbMcc2p-A&sig=AOD64_03qiZGD-PJa-lfD8uzdS3I3IM9kQ&ctype=5&q=&ved=2ahUKEwjTsubXloaLAxXByTgGHQiRMmYQww8oAnoECAgQCg&adurl=\"\n",
    "        # your full URL here\n",
    "    )\n",
    "    price = get_gentronics_website_price(test_url)\n",
    "    print(price)\n"
   ]
  },
  {
   "cell_type": "code",
   "execution_count": 10,
   "id": "a9805c52-a8d1-43b9-a685-51ea2d09a23c",
   "metadata": {},
   "outputs": [
    {
     "name": "stdout",
     "output_type": "stream",
     "text": [
      "1,669.00\n"
     ]
    }
   ],
   "source": [
    "def get_weld_com_au_price(url: str) -> str:\n",
    "    \"\"\"\n",
    "    Fetch the product page from the given URL and return the product price as a string.\n",
    "    The price is stored in:\n",
    "    <p class=\"price\">\n",
    "        <span class=\"woocommerce-Price-amount amount\">\n",
    "            <bdi>\n",
    "                <span class=\"woocommerce-Price-currencySymbol\">$</span>1,669.00\n",
    "            </bdi>\n",
    "        </span>\n",
    "    </p>\n",
    "    \"\"\"\n",
    "    # Basic checks for URL validity\n",
    "    if pd.isna(url) or not isinstance(url, str) or url.strip() == \"\":\n",
    "        return np.nan\n",
    "    if len(url) == 0:\n",
    "        return -1\n",
    "    # Ensure the URL starts with the Weld product URL base.\n",
    "    if not url.startswith(\"https://www.weld.com.au/product/\"):\n",
    "        return -1\n",
    "    \n",
    "    # Create an HTTP client with appropriate headers.\n",
    "    session = httpx.Client(\n",
    "        headers={\n",
    "            \"User-Agent\": (\"Mozilla/5.0 (Windows NT 10.0; Win64; x64) \"\n",
    "                           \"AppleWebKit/537.36 (KHTML, like Gecko) Chrome/113.0.0.0 Safari/537.36\"),\n",
    "            \"Accept\": \"text/html,application/xhtml+xml,application/xml;q=0.9,image/webp,*/*;q=0.8\",\n",
    "        },\n",
    "        follow_redirects=True\n",
    "    )\n",
    "    \n",
    "    # Fetch the page\n",
    "    response = session.get(url)\n",
    "    sel = Selector(response.text)\n",
    "    css = lambda query: sel.css(query).get(default=\"\").strip()\n",
    "    \n",
    "    # Extract the price text using the appropriate CSS selector.\n",
    "    price_text = css(\"p.price span.woocommerce-Price-amount.amount bdi::text\")\n",
    "    \n",
    "    # Remove a leading currency symbol if present.\n",
    "    if price_text.startswith(\"$\"):\n",
    "        price_text = price_text[1:]\n",
    "    \n",
    "    return price_text\n",
    "\n",
    "# Example usage:\n",
    "if __name__ == \"__main__\":\n",
    "    url = \"https://www.weld.com.au/product/unimig-razor-multi-175-bundle-pk11091/?v=6502139931c4\"\n",
    "    price = get_weld_com_au_price(url)\n",
    "    print( price)\n"
   ]
  },
  {
   "cell_type": "code",
   "execution_count": 11,
   "id": "c1fd79b6-76c9-48c3-ac80-2f446d2dbad6",
   "metadata": {},
   "outputs": [],
   "source": [
    "def get_weldconnect_price(url: str) -> str:\n",
    "\n",
    "    if pd.isna(url) or not isinstance(url, str) or url.strip() == \"\":\n",
    "        return np.nan\n",
    "    if len(url) == 0:\n",
    "        return np.nan\n",
    "    if not url.startswith(\"https://www.weldconnect.com.au/\"):\n",
    "        return np.nan\n",
    "\n",
    "    try:\n",
    "        with httpx.Client(\n",
    "            headers={\n",
    "                \"User-Agent\": (\"Mozilla/5.0 (Windows NT 10.0; Win64; x64) \"\n",
    "                               \"AppleWebKit/537.36 (KHTML, like Gecko) Chrome/113.0.0.0 Safari/537.36\"),\n",
    "                \"Accept\": \"text/html,application/xhtml+xml,application/xml;q=0.9,image/webp,*/*;q=0.8\",\n",
    "            },\n",
    "            follow_redirects=True\n",
    "        ) as session:\n",
    "            # Set an explicit timeout (in seconds) for the request.\n",
    "            response = session.get(url, timeout=15.0)\n",
    "    except httpx.ReadTimeout:\n",
    "        # If a timeout occurs, return np.nan (or any other appropriate fallback)\n",
    "        return np.nan\n",
    "\n",
    "    sel = Selector(response.text)\n",
    "    # Extract the price using the \"content\" attribute from the <div> element.\n",
    "    price_text = sel.css(\"div.h1[itemprop='price']::attr(content)\").get(default=\"\").strip()\n",
    "    \n",
    "    return price_text\n",
    "\n"
   ]
  },
  {
   "cell_type": "code",
   "execution_count": 12,
   "id": "05086e40-cd5c-45d5-a371-47bb8464552c",
   "metadata": {},
   "outputs": [
    {
     "name": "stdout",
     "output_type": "stream",
     "text": [
      "Product Price: 979.00\n"
     ]
    }
   ],
   "source": [
    "import httpx\n",
    "import numpy as np\n",
    "import pandas as pd\n",
    "from parsel import Selector\n",
    "\n",
    "def get_metweld_price(url: str) -> str:\n",
    "    \"\"\"\n",
    "    Fetch the product page from the given URL and return the product price as a string.\n",
    "    The price is stored in an element like:\n",
    "    \n",
    "    <span data-product-price-with-tax=\"\" class=\"price price--withTax\">$979.00</span>\n",
    "    \n",
    "    Returns np.nan for any failure.\n",
    "    \"\"\"\n",
    "    # Validate URL\n",
    "    if pd.isna(url) or not isinstance(url, str) or url.strip() == \"\":\n",
    "        return np.nan\n",
    "    if len(url) == 0:\n",
    "        return np.nan\n",
    "    if not url.startswith(\"https://metweld.com.au/\"):\n",
    "        return np.nan\n",
    "\n",
    "    try:\n",
    "        # Create an HTTP client with browser-like headers\n",
    "        with httpx.Client(\n",
    "            headers={\n",
    "                \"User-Agent\": (\"Mozilla/5.0 (Windows NT 10.0; Win64; x64) \"\n",
    "                               \"AppleWebKit/537.36 (KHTML, like Gecko) \"\n",
    "                               \"Chrome/113.0.0.0 Safari/537.36\"),\n",
    "                \"Accept\": \"text/html,application/xhtml+xml,application/xml;q=0.9,image/webp,*/*;q=0.8\",\n",
    "            },\n",
    "            follow_redirects=True\n",
    "        ) as session:\n",
    "            # Fetch the page with a 15-second timeout\n",
    "            response = session.get(url, timeout=15.0)\n",
    "    except (httpx.ReadTimeout, Exception):\n",
    "        return np.nan\n",
    "\n",
    "    sel = Selector(response.text)\n",
    "    # Helper function for CSS selection\n",
    "    css = lambda query: sel.css(query).get(default=\"\").strip()\n",
    "    \n",
    "    # Extract the price text from the <span> element\n",
    "    price_text = css(\"span.price.price--withTax::text\")\n",
    "    \n",
    "    # Remove a leading currency symbol if present\n",
    "    if price_text.startswith(\"$\"):\n",
    "        price_text = price_text[1:]\n",
    "    \n",
    "    return price_text\n",
    "\n",
    "# Example usage:\n",
    "if __name__ == \"__main__\":\n",
    "    url = \"https://metweld.com.au/viper-185-mig-tig-stick-welder/\"\n",
    "    price = get_metweld_price(url)\n",
    "    print(\"Product Price:\", price)\n"
   ]
  },
  {
   "cell_type": "code",
   "execution_count": 13,
   "id": "6858dbf1-6ecf-4be6-8ff5-c047815f62c0",
   "metadata": {},
   "outputs": [
    {
     "name": "stdout",
     "output_type": "stream",
     "text": [
      "399.00\n"
     ]
    }
   ],
   "source": [
    "import httpx\n",
    "import numpy as np\n",
    "import pandas as pd\n",
    "from parsel import Selector\n",
    "\n",
    "def get_toolkitdepot_price(url: str) -> str:\n",
    "    # Validate URL\n",
    "    if pd.isna(url) or not isinstance(url, str) or url.strip() == \"\":\n",
    "        return np.nan\n",
    "    if not url.startswith(\"https://toolkitdepot.com.au/\"):\n",
    "        return np.nan\n",
    "\n",
    "    try:\n",
    "        # Create an HTTP client with browser-like headers.\n",
    "        with httpx.Client(\n",
    "            headers={\n",
    "                \"User-Agent\": (\n",
    "                    \"Mozilla/5.0 (Windows NT 10.0; Win64; x64) \"\n",
    "                    \"AppleWebKit/537.36 (KHTML, like Gecko) \"\n",
    "                    \"Chrome/113.0.0.0 Safari/537.36\"\n",
    "                ),\n",
    "                \"Accept\": \"text/html,application/xhtml+xml,application/xml;q=0.9,image/webp,*/*;q=0.8\",\n",
    "            },\n",
    "            follow_redirects=True\n",
    "        ) as session:\n",
    "            # Fetch the page (timeout=15 seconds)\n",
    "            response = session.get(url, timeout=15.0)\n",
    "    except (httpx.ReadTimeout, Exception) as e:\n",
    "        #print(\"Error fetching the page:\", e)\n",
    "        return np.nan\n",
    "\n",
    "    # Print debug info about response length (optional)\n",
    "    #print(\"DEBUG: Response length =\", len(response.text), \"characters\")\n",
    "\n",
    "    # Parse the HTML response using Parsel\n",
    "    sel = Selector(response.text)\n",
    "\n",
    "    # Try to extract the price by selecting the nested <span> inside the price container.\n",
    "    price_text = sel.css(\"span.price.price--withTax span::text\").get(default=\"\").strip()\n",
    "    \n",
    "    # Fallback: if the above selector returns empty, concatenate all text nodes within the element.\n",
    "    if not price_text:\n",
    "        price_text = \"\".join(sel.css(\"span.price.price--withTax ::text\").getall()).strip()\n",
    "\n",
    "    # Remove a leading currency symbol if present\n",
    "    if price_text.startswith(\"$\"):\n",
    "        price_text = price_text[1:]\n",
    "    \n",
    "    return price_text\n",
    "\n",
    "if __name__ == \"__main__\":\n",
    "    url = \"https://toolkitdepot.com.au/unimig-viper-multi-135-mig-tig-stick-welder-u11005k/\"\n",
    "    price = get_toolkitdepot_price(url)\n",
    "    print(price)"
   ]
  },
  {
   "cell_type": "code",
   "execution_count": 14,
   "id": "3ced4a55-b00f-44d0-a3be-438339ca7789",
   "metadata": {},
   "outputs": [
    {
     "name": "stdout",
     "output_type": "stream",
     "text": [
      "Product Price: 939.00\n"
     ]
    }
   ],
   "source": [
    "import httpx\n",
    "import numpy as np\n",
    "import pandas as pd\n",
    "from parsel import Selector\n",
    "\n",
    "def get_supercheapauto_price(url: str) -> str:\n",
    "    \"\"\"\n",
    "    Fetch the product page from the given Supercheapauto URL and return the product price as a string.\n",
    "    The price can be found in the HTML via XPath such as:\n",
    "      Full absolute path: /html/body/div[1]/div[14]/div[3]/div/div[2]/div/div[3]/span/span/text()\n",
    "      Or via classes: //span[contains(@class, 'price-sales')]//span[contains(@class, 'promo-price')]/text()\n",
    "    Returns np.nan for any failure.\n",
    "    \"\"\"\n",
    "    # URL validations\n",
    "    if pd.isna(url) or not isinstance(url, str) or url.strip() == \"\":\n",
    "        return np.nan\n",
    "    if not url.startswith(\"https://www.supercheapauto.com.au/\"):\n",
    "        return np.nan\n",
    "\n",
    "    # Create an HTTP client with browser-like headers\n",
    "    headers = {\n",
    "        \"User-Agent\": (\n",
    "            \"Mozilla/5.0 (Windows NT 10.0; Win64; x64) \"\n",
    "            \"AppleWebKit/537.36 (KHTML, like Gecko) \"\n",
    "            \"Chrome/113.0.0.0 Safari/537.36\"\n",
    "        ),\n",
    "        \"Accept\": (\n",
    "            \"text/html,application/xhtml+xml,application/xml;\"\n",
    "            \"q=0.9,image/avif,image/webp,image/apng,*/*;\"\n",
    "            \"q=0.8,application/signed-exchange;v=b3;q=0.7\"\n",
    "        ),\n",
    "        \"Accept-Language\": \"en-US,en;q=0.9\",\n",
    "        \"Accept-Encoding\": \"gzip, deflate, br\",\n",
    "    }\n",
    "\n",
    "    try:\n",
    "        with httpx.Client(headers=headers, follow_redirects=True) as session:\n",
    "            response = session.get(url, timeout=15.0)\n",
    "    except (httpx.ReadTimeout, Exception) as e:\n",
    "        # Could also log the exception e if desired\n",
    "        return np.nan\n",
    "\n",
    "    # Parse the HTML using Selector\n",
    "    sel = Selector(response.text)\n",
    "\n",
    "    # First try to extract using class-based XPath\n",
    "    price_class_nodes = sel.xpath(\"//span[contains(@class, 'price-sales')]//span[contains(@class, 'promo-price')]/text()\").getall()\n",
    "    price_class = \"\".join(price_class_nodes).strip()\n",
    "\n",
    "    # Then try using the full absolute XPath (if class-based extraction is empty)\n",
    "    price_full = sel.xpath(\"/html/body/div[1]/div[14]/div[3]/div/div[2]/div/div[3]/span/span/text()\").get(default=\"\").strip()\n",
    "\n",
    "    # Choose the first non-empty result\n",
    "    price_text = price_class if price_class else price_full\n",
    "\n",
    "    # If the price text starts with a currency symbol, remove it\n",
    "    if price_text.startswith(\"$\"):\n",
    "        price_text = price_text[1:].strip()\n",
    "\n",
    "    # Return np.nan if no price was found\n",
    "    if not price_text:\n",
    "        return np.nan\n",
    "\n",
    "    return price_text\n",
    "\n",
    "# Example usage:\n",
    "if __name__ == \"__main__\":\n",
    "    url = \"https://www.supercheapauto.com.au/p/unimig-unimig-viper-185-multiprocess-welder/678408.html\"\n",
    "    price = get_supercheapauto_price(url)\n",
    "    print(\"Product Price:\", price)\n"
   ]
  },
  {
   "cell_type": "code",
   "execution_count": 15,
   "id": "9511e3e5",
   "metadata": {},
   "outputs": [
    {
     "data": {
      "text/html": [
       "<div>\n",
       "<style scoped>\n",
       "    .dataframe tbody tr th:only-of-type {\n",
       "        vertical-align: middle;\n",
       "    }\n",
       "\n",
       "    .dataframe tbody tr th {\n",
       "        vertical-align: top;\n",
       "    }\n",
       "\n",
       "    .dataframe thead th {\n",
       "        text-align: right;\n",
       "    }\n",
       "</style>\n",
       "<table border=\"1\" class=\"dataframe\">\n",
       "  <thead>\n",
       "    <tr style=\"text-align: right;\">\n",
       "      <th></th>\n",
       "      <th>BRAND</th>\n",
       "      <th>PRODUCT SKU</th>\n",
       "      <th>PRODUCT NAME</th>\n",
       "      <th>Shop Name</th>\n",
       "      <th>PRODUCT LINK</th>\n",
       "      <th>Note</th>\n",
       "      <th>BUNDLE LINK</th>\n",
       "      <th>Comment</th>\n",
       "    </tr>\n",
       "  </thead>\n",
       "  <tbody>\n",
       "    <tr>\n",
       "      <th>0</th>\n",
       "      <td>Unimig</td>\n",
       "      <td>U11005K</td>\n",
       "      <td>VIPER 135</td>\n",
       "      <td>ELECTROWELD WEBSITE</td>\n",
       "      <td>https://www.electroweld.com.au/product/unimig-...</td>\n",
       "      <td>NaN</td>\n",
       "      <td>NaN</td>\n",
       "      <td>NaN</td>\n",
       "    </tr>\n",
       "    <tr>\n",
       "      <th>1</th>\n",
       "      <td>Unimig</td>\n",
       "      <td>U11005K</td>\n",
       "      <td>VIPER 135</td>\n",
       "      <td>ELECTROWELD EBAY</td>\n",
       "      <td>https://www.ebay.com.au/itm/275880137475?itmme...</td>\n",
       "      <td>NaN</td>\n",
       "      <td>NaN</td>\n",
       "      <td>NaN</td>\n",
       "    </tr>\n",
       "    <tr>\n",
       "      <th>2</th>\n",
       "      <td>Unimig</td>\n",
       "      <td>U11005K</td>\n",
       "      <td>VIPER 135</td>\n",
       "      <td>HAMPDON EBAY</td>\n",
       "      <td>https://www.ebay.com.au/sch/i.html?_from=R40&amp;_...</td>\n",
       "      <td>NaN</td>\n",
       "      <td>NaN</td>\n",
       "      <td>NaN</td>\n",
       "    </tr>\n",
       "    <tr>\n",
       "      <th>3</th>\n",
       "      <td>Unimig</td>\n",
       "      <td>U11005K</td>\n",
       "      <td>VIPER 135</td>\n",
       "      <td>WA INDUSTRIAL SUPPLIES WEBSITE</td>\n",
       "      <td>https://www.waindustrialsupplies.net/product/v...</td>\n",
       "      <td>NaN</td>\n",
       "      <td>NaN</td>\n",
       "      <td>NaN</td>\n",
       "    </tr>\n",
       "    <tr>\n",
       "      <th>4</th>\n",
       "      <td>Unimig</td>\n",
       "      <td>U11005K</td>\n",
       "      <td>VIPER 135</td>\n",
       "      <td>WA INDUSTRIAL SUPPLIES EBAY</td>\n",
       "      <td>https://www.ebay.com.au/itm/186207493192?epid=...</td>\n",
       "      <td>NaN</td>\n",
       "      <td>NaN</td>\n",
       "      <td>NaN</td>\n",
       "    </tr>\n",
       "  </tbody>\n",
       "</table>\n",
       "</div>"
      ],
      "text/plain": [
       "    BRAND PRODUCT SKU PRODUCT NAME                       Shop Name  \\\n",
       "0  Unimig     U11005K    VIPER 135             ELECTROWELD WEBSITE   \n",
       "1  Unimig     U11005K    VIPER 135                ELECTROWELD EBAY   \n",
       "2  Unimig     U11005K    VIPER 135                    HAMPDON EBAY   \n",
       "3  Unimig     U11005K    VIPER 135  WA INDUSTRIAL SUPPLIES WEBSITE   \n",
       "4  Unimig     U11005K    VIPER 135     WA INDUSTRIAL SUPPLIES EBAY   \n",
       "\n",
       "                                        PRODUCT LINK Note BUNDLE LINK Comment  \n",
       "0  https://www.electroweld.com.au/product/unimig-...  NaN         NaN     NaN  \n",
       "1  https://www.ebay.com.au/itm/275880137475?itmme...  NaN         NaN     NaN  \n",
       "2  https://www.ebay.com.au/sch/i.html?_from=R40&_...  NaN         NaN     NaN  \n",
       "3  https://www.waindustrialsupplies.net/product/v...  NaN         NaN     NaN  \n",
       "4  https://www.ebay.com.au/itm/186207493192?epid=...  NaN         NaN     NaN  "
      ]
     },
     "execution_count": 15,
     "metadata": {},
     "output_type": "execute_result"
    }
   ],
   "source": [
    "df_sub.head()"
   ]
  },
  {
   "cell_type": "code",
   "execution_count": 16,
   "id": "f773e085-3812-494b-acb2-3068f8a5f2f1",
   "metadata": {},
   "outputs": [
    {
     "name": "stderr",
     "output_type": "stream",
     "text": [
      "/var/folders/t1/nz7bssws0lq083n8ks9zxkmw0000gn/T/ipykernel_7351/2258500888.py:5: SettingWithCopyWarning: \n",
      "A value is trying to be set on a copy of a slice from a DataFrame.\n",
      "Try using .loc[row_indexer,col_indexer] = value instead\n",
      "\n",
      "See the caveats in the documentation: https://pandas.pydata.org/pandas-docs/stable/user_guide/indexing.html#returning-a-view-versus-a-copy\n",
      "  df_biba_website['Price']= df_biba_website['PRODUCT LINK'].apply(get_bilba_website_price)\n",
      "/var/folders/t1/nz7bssws0lq083n8ks9zxkmw0000gn/T/ipykernel_7351/2258500888.py:6: SettingWithCopyWarning: \n",
      "A value is trying to be set on a copy of a slice from a DataFrame.\n",
      "Try using .loc[row_indexer,col_indexer] = value instead\n",
      "\n",
      "See the caveats in the documentation: https://pandas.pydata.org/pandas-docs/stable/user_guide/indexing.html#returning-a-view-versus-a-copy\n",
      "  df_biba_website['Price_Bundle']= df_biba_website['BUNDLE LINK'].apply(get_bilba_website_price)\n"
     ]
    }
   ],
   "source": [
    "df_biba_website = df_sub[\n",
    "    df_sub['Shop Name'].str.contains('Bilba', case=False, na=False) &\n",
    "    ~df_sub['Shop Name'].str.contains('BILBA EBAY', case=False, na=False)\n",
    "]\n",
    "df_biba_website['Price']= df_biba_website['PRODUCT LINK'].apply(get_bilba_website_price)\n",
    "df_biba_website['Price_Bundle']= df_biba_website['BUNDLE LINK'].apply(get_bilba_website_price)"
   ]
  },
  {
   "cell_type": "code",
   "execution_count": 17,
   "id": "80e432ba-b89e-43f2-a4bd-85fd7d975a9a",
   "metadata": {},
   "outputs": [
    {
     "name": "stderr",
     "output_type": "stream",
     "text": [
      "/var/folders/t1/nz7bssws0lq083n8ks9zxkmw0000gn/T/ipykernel_7351/3657741474.py:2: SettingWithCopyWarning: \n",
      "A value is trying to be set on a copy of a slice from a DataFrame.\n",
      "Try using .loc[row_indexer,col_indexer] = value instead\n",
      "\n",
      "See the caveats in the documentation: https://pandas.pydata.org/pandas-docs/stable/user_guide/indexing.html#returning-a-view-versus-a-copy\n",
      "  df_electroweld_website['Price']= df_electroweld_website['PRODUCT LINK'].apply(get_electroweld_website_price)\n",
      "/var/folders/t1/nz7bssws0lq083n8ks9zxkmw0000gn/T/ipykernel_7351/3657741474.py:3: SettingWithCopyWarning: \n",
      "A value is trying to be set on a copy of a slice from a DataFrame.\n",
      "Try using .loc[row_indexer,col_indexer] = value instead\n",
      "\n",
      "See the caveats in the documentation: https://pandas.pydata.org/pandas-docs/stable/user_guide/indexing.html#returning-a-view-versus-a-copy\n",
      "  df_electroweld_website['Price_Bundle']= df_electroweld_website['BUNDLE LINK'].apply(get_electroweld_website_price)\n"
     ]
    }
   ],
   "source": [
    "df_electroweld_website = df_sub[df_sub['Shop Name'].str.contains('electroweld website', case=False, na=False, regex=True)]\n",
    "df_electroweld_website['Price']= df_electroweld_website['PRODUCT LINK'].apply(get_electroweld_website_price)\n",
    "df_electroweld_website['Price_Bundle']= df_electroweld_website['BUNDLE LINK'].apply(get_electroweld_website_price)"
   ]
  },
  {
   "cell_type": "code",
   "execution_count": 18,
   "id": "552d561d",
   "metadata": {},
   "outputs": [
    {
     "name": "stderr",
     "output_type": "stream",
     "text": [
      "/var/folders/t1/nz7bssws0lq083n8ks9zxkmw0000gn/T/ipykernel_7351/1417790290.py:4: SettingWithCopyWarning: \n",
      "A value is trying to be set on a copy of a slice from a DataFrame.\n",
      "Try using .loc[row_indexer,col_indexer] = value instead\n",
      "\n",
      "See the caveats in the documentation: https://pandas.pydata.org/pandas-docs/stable/user_guide/indexing.html#returning-a-view-versus-a-copy\n",
      "  df_ebay['Price']= df_ebay['PRODUCT LINK'].apply(get_ebay_price)\n",
      "/var/folders/t1/nz7bssws0lq083n8ks9zxkmw0000gn/T/ipykernel_7351/1417790290.py:5: SettingWithCopyWarning: \n",
      "A value is trying to be set on a copy of a slice from a DataFrame.\n",
      "Try using .loc[row_indexer,col_indexer] = value instead\n",
      "\n",
      "See the caveats in the documentation: https://pandas.pydata.org/pandas-docs/stable/user_guide/indexing.html#returning-a-view-versus-a-copy\n",
      "  df_ebay['Price_Bundle']= df_ebay['BUNDLE LINK'].apply(get_ebay_price)\n"
     ]
    }
   ],
   "source": [
    "# Subset dataframe to retain only EBAY shop records\n",
    "df_ebay = df_sub[df_sub['Shop Name'].str.contains('EBAY', case=False, na=False, regex=True)]\n",
    "# Apply the get_ebay_price() on entire ebad df for fetching price for all applicable url rows\n",
    "df_ebay['Price']= df_ebay['PRODUCT LINK'].apply(get_ebay_price)\n",
    "df_ebay['Price_Bundle']= df_ebay['BUNDLE LINK'].apply(get_ebay_price)"
   ]
  },
  {
   "cell_type": "code",
   "execution_count": 19,
   "id": "757fb8f4-9c1c-42e0-b0e1-9524e2cc1470",
   "metadata": {},
   "outputs": [
    {
     "name": "stderr",
     "output_type": "stream",
     "text": [
      "/var/folders/t1/nz7bssws0lq083n8ks9zxkmw0000gn/T/ipykernel_7351/2789824565.py:2: SettingWithCopyWarning: \n",
      "A value is trying to be set on a copy of a slice from a DataFrame.\n",
      "Try using .loc[row_indexer,col_indexer] = value instead\n",
      "\n",
      "See the caveats in the documentation: https://pandas.pydata.org/pandas-docs/stable/user_guide/indexing.html#returning-a-view-versus-a-copy\n",
      "  df_gentronics['Price']= df_gentronics['PRODUCT LINK'].apply(get_gentronics_website_price)\n",
      "/var/folders/t1/nz7bssws0lq083n8ks9zxkmw0000gn/T/ipykernel_7351/2789824565.py:3: SettingWithCopyWarning: \n",
      "A value is trying to be set on a copy of a slice from a DataFrame.\n",
      "Try using .loc[row_indexer,col_indexer] = value instead\n",
      "\n",
      "See the caveats in the documentation: https://pandas.pydata.org/pandas-docs/stable/user_guide/indexing.html#returning-a-view-versus-a-copy\n",
      "  df_gentronics['Price_Bundle']= df_gentronics['BUNDLE LINK'].apply(get_gentronics_website_price)\n"
     ]
    }
   ],
   "source": [
    "df_gentronics = df_sub[df_sub['Shop Name'].str.contains('GENTRONICS', case=False, na=False, regex=True)]\n",
    "df_gentronics['Price']= df_gentronics['PRODUCT LINK'].apply(get_gentronics_website_price)\n",
    "df_gentronics['Price_Bundle']= df_gentronics['BUNDLE LINK'].apply(get_gentronics_website_price)"
   ]
  },
  {
   "cell_type": "code",
   "execution_count": 20,
   "id": "017b15ab-41bb-4d37-ac41-cd5acdd9a479",
   "metadata": {},
   "outputs": [
    {
     "name": "stderr",
     "output_type": "stream",
     "text": [
      "/var/folders/t1/nz7bssws0lq083n8ks9zxkmw0000gn/T/ipykernel_7351/1885032458.py:2: SettingWithCopyWarning: \n",
      "A value is trying to be set on a copy of a slice from a DataFrame.\n",
      "Try using .loc[row_indexer,col_indexer] = value instead\n",
      "\n",
      "See the caveats in the documentation: https://pandas.pydata.org/pandas-docs/stable/user_guide/indexing.html#returning-a-view-versus-a-copy\n",
      "  df_weldconnect['Price']= df_weldconnect['PRODUCT LINK'].apply(get_weldconnect_price)\n",
      "/var/folders/t1/nz7bssws0lq083n8ks9zxkmw0000gn/T/ipykernel_7351/1885032458.py:3: SettingWithCopyWarning: \n",
      "A value is trying to be set on a copy of a slice from a DataFrame.\n",
      "Try using .loc[row_indexer,col_indexer] = value instead\n",
      "\n",
      "See the caveats in the documentation: https://pandas.pydata.org/pandas-docs/stable/user_guide/indexing.html#returning-a-view-versus-a-copy\n",
      "  df_weldconnect['Price_Bundle']= df_weldconnect['BUNDLE LINK'].apply(get_weldconnect_price)\n"
     ]
    }
   ],
   "source": [
    "df_weldconnect = df_sub[df_sub['Shop Name'].str.contains('WELDCONNECT', case=False, na=False, regex=True)]\n",
    "df_weldconnect['Price']= df_weldconnect['PRODUCT LINK'].apply(get_weldconnect_price)\n",
    "df_weldconnect['Price_Bundle']= df_weldconnect['BUNDLE LINK'].apply(get_weldconnect_price)"
   ]
  },
  {
   "cell_type": "code",
   "execution_count": 21,
   "id": "8c5d5424-79d5-402e-abe2-19de6e98a515",
   "metadata": {},
   "outputs": [
    {
     "name": "stderr",
     "output_type": "stream",
     "text": [
      "/var/folders/t1/nz7bssws0lq083n8ks9zxkmw0000gn/T/ipykernel_7351/1079567426.py:2: SettingWithCopyWarning: \n",
      "A value is trying to be set on a copy of a slice from a DataFrame.\n",
      "Try using .loc[row_indexer,col_indexer] = value instead\n",
      "\n",
      "See the caveats in the documentation: https://pandas.pydata.org/pandas-docs/stable/user_guide/indexing.html#returning-a-view-versus-a-copy\n",
      "  df_weld_com['Price']= df_weld_com['PRODUCT LINK'].apply(get_weld_com_au_price)\n",
      "/var/folders/t1/nz7bssws0lq083n8ks9zxkmw0000gn/T/ipykernel_7351/1079567426.py:3: SettingWithCopyWarning: \n",
      "A value is trying to be set on a copy of a slice from a DataFrame.\n",
      "Try using .loc[row_indexer,col_indexer] = value instead\n",
      "\n",
      "See the caveats in the documentation: https://pandas.pydata.org/pandas-docs/stable/user_guide/indexing.html#returning-a-view-versus-a-copy\n",
      "  df_weld_com['Price_Bundle']= df_weld_com['BUNDLE LINK'].apply(get_weld_com_au_price)\n"
     ]
    }
   ],
   "source": [
    "df_weld_com = df_sub[df_sub['Shop Name'].str.contains('WELD.COM.AU', case=False, na=False, regex=True)]\n",
    "df_weld_com['Price']= df_weld_com['PRODUCT LINK'].apply(get_weld_com_au_price)\n",
    "df_weld_com['Price_Bundle']= df_weld_com['BUNDLE LINK'].apply(get_weld_com_au_price)"
   ]
  },
  {
   "cell_type": "code",
   "execution_count": 22,
   "id": "66e26e3a-59ce-4727-bd01-40fe6b739190",
   "metadata": {},
   "outputs": [
    {
     "name": "stderr",
     "output_type": "stream",
     "text": [
      "/var/folders/t1/nz7bssws0lq083n8ks9zxkmw0000gn/T/ipykernel_7351/514020751.py:2: SettingWithCopyWarning: \n",
      "A value is trying to be set on a copy of a slice from a DataFrame.\n",
      "Try using .loc[row_indexer,col_indexer] = value instead\n",
      "\n",
      "See the caveats in the documentation: https://pandas.pydata.org/pandas-docs/stable/user_guide/indexing.html#returning-a-view-versus-a-copy\n",
      "  df_metro_welder_service['Price']= df_metro_welder_service['PRODUCT LINK'].apply(get_metweld_price)\n",
      "/var/folders/t1/nz7bssws0lq083n8ks9zxkmw0000gn/T/ipykernel_7351/514020751.py:3: SettingWithCopyWarning: \n",
      "A value is trying to be set on a copy of a slice from a DataFrame.\n",
      "Try using .loc[row_indexer,col_indexer] = value instead\n",
      "\n",
      "See the caveats in the documentation: https://pandas.pydata.org/pandas-docs/stable/user_guide/indexing.html#returning-a-view-versus-a-copy\n",
      "  df_metro_welder_service['Price_Bundle']= df_metro_welder_service['BUNDLE LINK'].apply(get_metweld_price)\n"
     ]
    }
   ],
   "source": [
    "df_metro_welder_service = df_sub[df_sub['Shop Name'].str.contains('METRO WELDER SERVICE', case=False, na=False, regex=True)]\n",
    "df_metro_welder_service['Price']= df_metro_welder_service['PRODUCT LINK'].apply(get_metweld_price)\n",
    "df_metro_welder_service['Price_Bundle']= df_metro_welder_service['BUNDLE LINK'].apply(get_metweld_price)\n"
   ]
  },
  {
   "cell_type": "code",
   "execution_count": 23,
   "id": "2a5cc5dc-174d-4a0d-85cd-eabcb770b112",
   "metadata": {},
   "outputs": [
    {
     "name": "stderr",
     "output_type": "stream",
     "text": [
      "/var/folders/t1/nz7bssws0lq083n8ks9zxkmw0000gn/T/ipykernel_7351/3499184756.py:2: SettingWithCopyWarning: \n",
      "A value is trying to be set on a copy of a slice from a DataFrame.\n",
      "Try using .loc[row_indexer,col_indexer] = value instead\n",
      "\n",
      "See the caveats in the documentation: https://pandas.pydata.org/pandas-docs/stable/user_guide/indexing.html#returning-a-view-versus-a-copy\n",
      "  df_toolkit_depot['Price']= df_toolkit_depot['PRODUCT LINK'].apply(get_toolkitdepot_price)\n",
      "/var/folders/t1/nz7bssws0lq083n8ks9zxkmw0000gn/T/ipykernel_7351/3499184756.py:3: SettingWithCopyWarning: \n",
      "A value is trying to be set on a copy of a slice from a DataFrame.\n",
      "Try using .loc[row_indexer,col_indexer] = value instead\n",
      "\n",
      "See the caveats in the documentation: https://pandas.pydata.org/pandas-docs/stable/user_guide/indexing.html#returning-a-view-versus-a-copy\n",
      "  df_toolkit_depot['Price_Bundle']= df_toolkit_depot['BUNDLE LINK'].apply(get_toolkitdepot_price)\n"
     ]
    }
   ],
   "source": [
    "df_toolkit_depot = df_sub[df_sub['Shop Name'].str.contains('TKD', case=False, na=False, regex=True)]\n",
    "df_toolkit_depot['Price']= df_toolkit_depot['PRODUCT LINK'].apply(get_toolkitdepot_price)\n",
    "df_toolkit_depot['Price_Bundle']= df_toolkit_depot['BUNDLE LINK'].apply(get_toolkitdepot_price)"
   ]
  },
  {
   "cell_type": "code",
   "execution_count": 24,
   "id": "add52184-2147-4246-a5f2-f030f2ccae43",
   "metadata": {},
   "outputs": [
    {
     "name": "stderr",
     "output_type": "stream",
     "text": [
      "/var/folders/t1/nz7bssws0lq083n8ks9zxkmw0000gn/T/ipykernel_7351/208277489.py:2: SettingWithCopyWarning: \n",
      "A value is trying to be set on a copy of a slice from a DataFrame.\n",
      "Try using .loc[row_indexer,col_indexer] = value instead\n",
      "\n",
      "See the caveats in the documentation: https://pandas.pydata.org/pandas-docs/stable/user_guide/indexing.html#returning-a-view-versus-a-copy\n",
      "  df_supercheapauto['Price']= df_supercheapauto['PRODUCT LINK'].apply(get_supercheapauto_price)\n",
      "/var/folders/t1/nz7bssws0lq083n8ks9zxkmw0000gn/T/ipykernel_7351/208277489.py:3: SettingWithCopyWarning: \n",
      "A value is trying to be set on a copy of a slice from a DataFrame.\n",
      "Try using .loc[row_indexer,col_indexer] = value instead\n",
      "\n",
      "See the caveats in the documentation: https://pandas.pydata.org/pandas-docs/stable/user_guide/indexing.html#returning-a-view-versus-a-copy\n",
      "  df_supercheapauto['Price_Bundle']= df_supercheapauto['BUNDLE LINK'].apply(get_supercheapauto_price)\n"
     ]
    }
   ],
   "source": [
    "df_supercheapauto = df_sub[df_sub['Shop Name'].str.contains('SUPERCHEAP AUTO', case=False, na=False, regex=True)]\n",
    "df_supercheapauto['Price']= df_supercheapauto['PRODUCT LINK'].apply(get_supercheapauto_price)\n",
    "df_supercheapauto['Price_Bundle']= df_supercheapauto['BUNDLE LINK'].apply(get_supercheapauto_price)\n"
   ]
  },
  {
   "cell_type": "code",
   "execution_count": 25,
   "id": "90a75a3b-d8de-4b35-9348-0db4257cc607",
   "metadata": {},
   "outputs": [
    {
     "name": "stderr",
     "output_type": "stream",
     "text": [
      "/var/folders/t1/nz7bssws0lq083n8ks9zxkmw0000gn/T/ipykernel_7351/1155636449.py:2: SettingWithCopyWarning: \n",
      "A value is trying to be set on a copy of a slice from a DataFrame.\n",
      "Try using .loc[row_indexer,col_indexer] = value instead\n",
      "\n",
      "See the caveats in the documentation: https://pandas.pydata.org/pandas-docs/stable/user_guide/indexing.html#returning-a-view-versus-a-copy\n",
      "  df_toolswarehouse['Price']= df_toolswarehouse['PRODUCT LINK'].apply(get_toolswarehouse_price)\n",
      "/var/folders/t1/nz7bssws0lq083n8ks9zxkmw0000gn/T/ipykernel_7351/1155636449.py:3: SettingWithCopyWarning: \n",
      "A value is trying to be set on a copy of a slice from a DataFrame.\n",
      "Try using .loc[row_indexer,col_indexer] = value instead\n",
      "\n",
      "See the caveats in the documentation: https://pandas.pydata.org/pandas-docs/stable/user_guide/indexing.html#returning-a-view-versus-a-copy\n",
      "  df_toolswarehouse['Price_Bundle']= df_toolswarehouse['BUNDLE LINK'].apply(get_toolswarehouse_price)\n"
     ]
    }
   ],
   "source": [
    "df_toolswarehouse = df_sub[df_sub['Shop Name'].str.contains('TOOLS WAREHOUSE', case=False, na=False, regex=True)]\n",
    "df_toolswarehouse['Price']= df_toolswarehouse['PRODUCT LINK'].apply(get_toolswarehouse_price)\n",
    "df_toolswarehouse['Price_Bundle']= df_toolswarehouse['BUNDLE LINK'].apply(get_toolswarehouse_price)\n"
   ]
  },
  {
   "cell_type": "code",
   "execution_count": 26,
   "id": "974e18c7-32da-4c17-82f0-2d855de890c3",
   "metadata": {},
   "outputs": [
    {
     "name": "stdout",
     "output_type": "stream",
     "text": [
      "                                          PRODUCT LINK  \\\n",
      "148  https://www.vektools.com.au/unimig-razor-3-in-...   \n",
      "435  https://www.vektools.com.au/unimig-razor-200-a...   \n",
      "494  https://www.vektools.com.au/unimig-jusic-razor...   \n",
      "589  https://www.vektools.com.au/unimig-kumjrr180ca...   \n",
      "744  https://www.vektools.com.au/unimig-viper-cut-4...   \n",
      "\n",
      "                                    Price  Price_Bundle  \n",
      "148  <span class=\"price\">$1,299.00</span>           NaN  \n",
      "435                              1,999.00           NaN  \n",
      "494                              3,480.00           NaN  \n",
      "589                                445.00           NaN  \n",
      "744                              1,929.00           NaN  \n"
     ]
    },
    {
     "name": "stderr",
     "output_type": "stream",
     "text": [
      "/var/folders/t1/nz7bssws0lq083n8ks9zxkmw0000gn/T/ipykernel_7351/2596470196.py:2: SettingWithCopyWarning: \n",
      "A value is trying to be set on a copy of a slice from a DataFrame.\n",
      "Try using .loc[row_indexer,col_indexer] = value instead\n",
      "\n",
      "See the caveats in the documentation: https://pandas.pydata.org/pandas-docs/stable/user_guide/indexing.html#returning-a-view-versus-a-copy\n",
      "  df_vektools['Price'] = df_vektools['PRODUCT LINK'].apply(get_vektools_price)\n",
      "/var/folders/t1/nz7bssws0lq083n8ks9zxkmw0000gn/T/ipykernel_7351/2596470196.py:3: SettingWithCopyWarning: \n",
      "A value is trying to be set on a copy of a slice from a DataFrame.\n",
      "Try using .loc[row_indexer,col_indexer] = value instead\n",
      "\n",
      "See the caveats in the documentation: https://pandas.pydata.org/pandas-docs/stable/user_guide/indexing.html#returning-a-view-versus-a-copy\n",
      "  df_vektools['Price_Bundle'] = df_vektools['BUNDLE LINK'].apply(get_vektools_price)\n"
     ]
    }
   ],
   "source": [
    "df_vektools = df_sub[df_sub['Shop Name'].str.contains('VEK TOOLS', case=False, na=False, regex=True)]\n",
    "df_vektools['Price'] = df_vektools['PRODUCT LINK'].apply(get_vektools_price)\n",
    "df_vektools['Price_Bundle'] = df_vektools['BUNDLE LINK'].apply(get_vektools_price)\n",
    "\n",
    "# Filter rows where 'PRODUCT LINK' is not NaN and not empty (after stripping spaces)\n",
    "filtered_df = df_vektools[\n",
    "    df_vektools['PRODUCT LINK'].notna() & (df_vektools['PRODUCT LINK'].str.strip() != \"\")\n",
    "]\n",
    "\n",
    "print(filtered_df[['PRODUCT LINK', 'Price', 'Price_Bundle']])\n",
    "\n"
   ]
  },
  {
   "cell_type": "code",
   "execution_count": 27,
   "id": "79d5a99c-e58e-4b66-a4d0-33ae5a53a5a3",
   "metadata": {},
   "outputs": [
    {
     "name": "stderr",
     "output_type": "stream",
     "text": [
      "/var/folders/t1/nz7bssws0lq083n8ks9zxkmw0000gn/T/ipykernel_7351/3163767015.py:2: SettingWithCopyWarning: \n",
      "A value is trying to be set on a copy of a slice from a DataFrame.\n",
      "Try using .loc[row_indexer,col_indexer] = value instead\n",
      "\n",
      "See the caveats in the documentation: https://pandas.pydata.org/pandas-docs/stable/user_guide/indexing.html#returning-a-view-versus-a-copy\n",
      "  df_kennedys['Price']= df_kennedys['PRODUCT LINK'].apply(get_kennedys_price)\n",
      "/var/folders/t1/nz7bssws0lq083n8ks9zxkmw0000gn/T/ipykernel_7351/3163767015.py:3: SettingWithCopyWarning: \n",
      "A value is trying to be set on a copy of a slice from a DataFrame.\n",
      "Try using .loc[row_indexer,col_indexer] = value instead\n",
      "\n",
      "See the caveats in the documentation: https://pandas.pydata.org/pandas-docs/stable/user_guide/indexing.html#returning-a-view-versus-a-copy\n",
      "  df_kennedys['Price_Bundle']= df_kennedys['BUNDLE LINK'].apply(get_kennedys_price)\n"
     ]
    }
   ],
   "source": [
    "df_kennedys = df_sub[df_sub['Shop Name'].str.contains(\"KENNEDY'S WELDING SUPPLIES\", case=False, na=False, regex=True)]\n",
    "df_kennedys['Price']= df_kennedys['PRODUCT LINK'].apply(get_kennedys_price)\n",
    "df_kennedys['Price_Bundle']= df_kennedys['BUNDLE LINK'].apply(get_kennedys_price)\n"
   ]
  },
  {
   "cell_type": "code",
   "execution_count": 45,
   "id": "9b9663e7-544b-4984-b201-75ab61528760",
   "metadata": {},
   "outputs": [
    {
     "name": "stderr",
     "output_type": "stream",
     "text": [
      "/var/folders/t1/nz7bssws0lq083n8ks9zxkmw0000gn/T/ipykernel_7351/987453922.py:3: SettingWithCopyWarning: \n",
      "A value is trying to be set on a copy of a slice from a DataFrame.\n",
      "Try using .loc[row_indexer,col_indexer] = value instead\n",
      "\n",
      "See the caveats in the documentation: https://pandas.pydata.org/pandas-docs/stable/user_guide/indexing.html#returning-a-view-versus-a-copy\n",
      "  df_totaltools['Price']= df_totaltools['PRODUCT LINK'].apply(get_total_tools_price)\n",
      "/var/folders/t1/nz7bssws0lq083n8ks9zxkmw0000gn/T/ipykernel_7351/987453922.py:4: SettingWithCopyWarning: \n",
      "A value is trying to be set on a copy of a slice from a DataFrame.\n",
      "Try using .loc[row_indexer,col_indexer] = value instead\n",
      "\n",
      "See the caveats in the documentation: https://pandas.pydata.org/pandas-docs/stable/user_guide/indexing.html#returning-a-view-versus-a-copy\n",
      "  df_totaltools['Price_Bundle']= df_totaltools['BUNDLE LINK'].apply(get_total_tools_price)\n"
     ]
    }
   ],
   "source": [
    "from total_tools_scraper import get_total_tools_price\n",
    "df_totaltools = df_sub[df_sub['Shop Name'].str.contains(\"total tools\", case=False, na=False, regex=True)]\n",
    "df_totaltools['Price']= df_totaltools['PRODUCT LINK'].apply(get_total_tools_price)\n",
    "df_totaltools['Price_Bundle']= df_totaltools['BUNDLE LINK'].apply(get_total_tools_price)\n"
   ]
  },
  {
   "cell_type": "code",
   "execution_count": 28,
   "id": "70a8a1d7-6e18-4632-9fa3-64e38e58b5e5",
   "metadata": {},
   "outputs": [],
   "source": [
    "import numpy as np\n",
    "import time\n",
    "from selenium import webdriver\n",
    "from selenium.webdriver.chrome.options import Options\n",
    "from selenium.webdriver.common.by import By\n",
    "\n",
    "def init_driver() -> webdriver.Chrome:\n",
    "    \"\"\"\n",
    "    Initialize a headless Selenium Chrome driver and return it.\n",
    "    \"\"\"\n",
    "    chrome_options = Options()\n",
    "    chrome_options.add_argument(\"--headless\")\n",
    "    chrome_options.add_argument(\"--disable-gpu\")\n",
    "    chrome_options.add_argument(\"--no-sandbox\")\n",
    "    driver = webdriver.Chrome(options=chrome_options)\n",
    "    driver.set_page_load_timeout(15)\n",
    "    return driver\n",
    "\n",
    "def close_driver(driver: webdriver.Chrome):\n",
    "    driver.quit()\n",
    "\n",
    "def fetch_value_by_xpath(driver: webdriver.Chrome, url: str, xpath: str) -> str:\n",
    "    \"\"\"\n",
    "    Given a driver, a URL, and an XPath, fetch the URL, wait for dynamic content,\n",
    "    and return the text content of the element specified by the XPath.\n",
    "    Returns np.nan in case of errors.\n",
    "    \"\"\"\n",
    "    if not url or not isinstance(url, str) or url.strip() == \"\":\n",
    "        return np.nan\n",
    "    try:\n",
    "        driver.get(url)\n",
    "        # Adjust the sleep time as needed (or use WebDriverWait for better control)\n",
    "        time.sleep(3)\n",
    "        element = driver.find_element(By.XPATH, xpath)\n",
    "        value = element.text.strip()\n",
    "        return value.replace(\"A$\",\"\")\n",
    "    except Exception as e:\n",
    "        print(\"Exception occurred while fetching value for URL:\", url)\n",
    "        return np.nan"
   ]
  },
  {
   "cell_type": "code",
   "execution_count": 29,
   "id": "919a625f-a697-4bfb-849a-94ebc2bbc5e6",
   "metadata": {},
   "outputs": [],
   "source": [
    "driver = init_driver()"
   ]
  },
  {
   "cell_type": "code",
   "execution_count": 30,
   "id": "9fb0fa2c-55c6-4d87-9c05-71141e471176",
   "metadata": {},
   "outputs": [
    {
     "name": "stderr",
     "output_type": "stream",
     "text": [
      "/var/folders/t1/nz7bssws0lq083n8ks9zxkmw0000gn/T/ipykernel_7351/1426356570.py:13: SettingWithCopyWarning: \n",
      "A value is trying to be set on a copy of a slice from a DataFrame.\n",
      "Try using .loc[row_indexer,col_indexer] = value instead\n",
      "\n",
      "See the caveats in the documentation: https://pandas.pydata.org/pandas-docs/stable/user_guide/indexing.html#returning-a-view-versus-a-copy\n",
      "  df_wa_industrial_website['Price'] = df_wa_industrial_website['PRODUCT LINK'].apply(\n",
      "/var/folders/t1/nz7bssws0lq083n8ks9zxkmw0000gn/T/ipykernel_7351/1426356570.py:18: SettingWithCopyWarning: \n",
      "A value is trying to be set on a copy of a slice from a DataFrame.\n",
      "Try using .loc[row_indexer,col_indexer] = value instead\n",
      "\n",
      "See the caveats in the documentation: https://pandas.pydata.org/pandas-docs/stable/user_guide/indexing.html#returning-a-view-versus-a-copy\n",
      "  df_wa_industrial_website['Price_Bundle'] = df_wa_industrial_website['BUNDLE LINK'].apply(\n"
     ]
    }
   ],
   "source": [
    "# Define your XPath (make sure this is the correct path)\n",
    "waindustrial_xpath_price_ = (\n",
    "    \"/html/body/div[1]/div/div[1]/div[1]/div/div/div[2]/div[2]/div/div[1]/div/\"\n",
    "    \"div/div/div/div/div[2]/div/div/div/div[2]/form/section[1]/div[1]/div/h3/span\"\n",
    ")\n",
    "\n",
    "# Filter your dataframe for WA INDUSTRIAL SUPPLIES WEBSITE\n",
    "df_wa_industrial_website = df_sub[\n",
    "    df_sub['Shop Name'].str.contains(\"WA INDUSTRIAL SUPPLIES WEBSITE\", case=False, na=False, regex=True)\n",
    "]\n",
    "\n",
    "# Apply your scraper function on the PRODUCT LINK column\n",
    "df_wa_industrial_website['Price'] = df_wa_industrial_website['PRODUCT LINK'].apply(\n",
    "    lambda url: fetch_value_by_xpath(driver, url, waindustrial_xpath_price_)\n",
    ")\n",
    "\n",
    "# Similarly, apply on the BUNDLE LINK column\n",
    "df_wa_industrial_website['Price_Bundle'] = df_wa_industrial_website['BUNDLE LINK'].apply(\n",
    "    lambda url: fetch_value_by_xpath(driver, url, waindustrial_xpath_price_)\n",
    ")\n"
   ]
  },
  {
   "cell_type": "code",
   "execution_count": 31,
   "id": "107597e0-c24c-4c5b-819b-8c3843589c1c",
   "metadata": {},
   "outputs": [
    {
     "name": "stdout",
     "output_type": "stream",
     "text": [
      "Exception occurred while fetching value for URL: https://toolswarehouse.com.au/products/unimig-kumjr350swf-350a-razorweld-350-mig-tig-mma-dc-inverter-welder?srsltid=AfmBOor-c6ieyd7BttRHUs2dHmnlAabaQRkpaaaoTGB5BJUDNYI7T2x8\n"
     ]
    }
   ],
   "source": [
    "# Define your XPath for TOOLS WAREHOUSE product pages\n",
    "\n",
    "toolswarehouse_xpath_price = \"/html/body/main/div[1]/section/article/div[2]/div/div[6]/div[1]/div/div[4]/span[2]\"\n",
    "\n",
    "# Filter your DataFrame for rows where the Shop Name contains \"TOOLS WAREHOUSE\"\n",
    "df_toolswarehouse = df_sub[\n",
    "    df_sub['Shop Name'].str.contains(\"TOOLS WAREHOUSE\", case=False, na=False, regex=True)\n",
    "].copy()\n",
    "\n",
    "# Apply your scraper function on the PRODUCT LINK column\n",
    "df_toolswarehouse['Price'] = df_toolswarehouse['PRODUCT LINK'].apply(\n",
    "    lambda url: fetch_value_by_xpath(driver, url, toolswarehouse_xpath_price)\n",
    ")\n",
    "\n",
    "# Similarly, apply the scraper function on the BUNDLE LINK column\n",
    "df_toolswarehouse['Price_Bundle'] = df_toolswarehouse['BUNDLE LINK'].apply(\n",
    "    lambda url: fetch_value_by_xpath(driver, url, toolswarehouse_xpath_price)\n",
    ")"
   ]
  },
  {
   "cell_type": "code",
   "execution_count": 59,
   "id": "477a1430-8142-4df2-a933-2eff447baece",
   "metadata": {},
   "outputs": [],
   "source": [
    "chrome_options = Options()\n",
    "chrome_options.add_argument(\"--headless\")\n",
    "chrome_options.add_argument(\"--no-sandbox\")\n",
    "chrome_options.add_argument(\"--disable-dev-shm-usage\")\n",
    "driver_sydney = webdriver.Chrome(service=Service(ChromeDriverManager().install()), options=chrome_options)\n",
    "sydney_tools_xpath_price=\"/html/body/div[1]/div/div/section/section/div[2]/div/div/div[3]/div[2]/div[3]/div/div[2]/span[2]\"\n",
    "df_sydney_tools = df_sub[df_sub['Shop Name'].str.contains(\"SYDNEY TOOLS\", case=False, na=False, regex=True)].copy()\n",
    "df_sydney_tools['Price'] = df_sydney_tools['PRODUCT LINK'].apply(\n",
    "    lambda url: get_sydney_tools_price(url,driver)\n",
    ")\n",
    "# Similarly, apply the scraper function on the BUNDLE LINK column\n",
    "df_sydney_tools['Price_Bundle'] = df_sydney_tools['BUNDLE LINK'].apply(\n",
    "    lambda url: get_sydney_tools_price(url,driver)\n",
    ")\n",
    "# Now print or further process your DataFrame\n",
    "driver_sydney.quit()"
   ]
  },
  {
   "cell_type": "code",
   "execution_count": 65,
   "id": "a0fd4309-a87f-4e42-a83e-b4ceb67f87de",
   "metadata": {},
   "outputs": [
    {
     "ename": "TypeError",
     "evalue": "get_hares_and_forbes_price() takes 1 positional argument but 2 were given",
     "output_type": "error",
     "traceback": [
      "\u001b[0;31m---------------------------------------------------------------------------\u001b[0m",
      "\u001b[0;31mTypeError\u001b[0m                                 Traceback (most recent call last)",
      "Cell \u001b[0;32mIn[65], line 11\u001b[0m\n\u001b[1;32m      8\u001b[0m driver_hare \u001b[38;5;241m=\u001b[39m webdriver\u001b[38;5;241m.\u001b[39mChrome(options\u001b[38;5;241m=\u001b[39mchrome_options)\n\u001b[1;32m     10\u001b[0m df_hare_and_forbes \u001b[38;5;241m=\u001b[39m df_sub[df_sub[\u001b[38;5;124m'\u001b[39m\u001b[38;5;124mShop Name\u001b[39m\u001b[38;5;124m'\u001b[39m]\u001b[38;5;241m.\u001b[39mstr\u001b[38;5;241m.\u001b[39mcontains(\u001b[38;5;124m\"\u001b[39m\u001b[38;5;124mhare and forbes\u001b[39m\u001b[38;5;124m\"\u001b[39m, case\u001b[38;5;241m=\u001b[39m\u001b[38;5;28;01mFalse\u001b[39;00m, na\u001b[38;5;241m=\u001b[39m\u001b[38;5;28;01mFalse\u001b[39;00m, regex\u001b[38;5;241m=\u001b[39m\u001b[38;5;28;01mTrue\u001b[39;00m)]\u001b[38;5;241m.\u001b[39mcopy()\n\u001b[0;32m---> 11\u001b[0m df_hare_and_forbes[\u001b[38;5;124m'\u001b[39m\u001b[38;5;124mPrice\u001b[39m\u001b[38;5;124m'\u001b[39m] \u001b[38;5;241m=\u001b[39m df_hare_and_forbes[\u001b[38;5;124m'\u001b[39m\u001b[38;5;124mPRODUCT LINK\u001b[39m\u001b[38;5;124m'\u001b[39m]\u001b[38;5;241m.\u001b[39mapply(\n\u001b[1;32m     12\u001b[0m     \u001b[38;5;28;01mlambda\u001b[39;00m url: get_hares_and_forbes_price(url,driver)\n\u001b[1;32m     13\u001b[0m )\n\u001b[1;32m     14\u001b[0m \u001b[38;5;66;03m# Similarly, apply the scraper function on the BUNDLE LINK column\u001b[39;00m\n\u001b[1;32m     15\u001b[0m df_hare_and_forbes[\u001b[38;5;124m'\u001b[39m\u001b[38;5;124mPrice_Bundle\u001b[39m\u001b[38;5;124m'\u001b[39m] \u001b[38;5;241m=\u001b[39m df_hare_and_forbes[\u001b[38;5;124m'\u001b[39m\u001b[38;5;124mBUNDLE LINK\u001b[39m\u001b[38;5;124m'\u001b[39m]\u001b[38;5;241m.\u001b[39mapply(\n\u001b[1;32m     16\u001b[0m     \u001b[38;5;28;01mlambda\u001b[39;00m url: get_hares_and_forbes_price(url,driver)\n\u001b[1;32m     17\u001b[0m )\n",
      "File \u001b[0;32m~/anaconda3/lib/python3.11/site-packages/pandas/core/series.py:4924\u001b[0m, in \u001b[0;36mSeries.apply\u001b[0;34m(self, func, convert_dtype, args, by_row, **kwargs)\u001b[0m\n\u001b[1;32m   4789\u001b[0m \u001b[38;5;28;01mdef\u001b[39;00m \u001b[38;5;21mapply\u001b[39m(\n\u001b[1;32m   4790\u001b[0m     \u001b[38;5;28mself\u001b[39m,\n\u001b[1;32m   4791\u001b[0m     func: AggFuncType,\n\u001b[0;32m   (...)\u001b[0m\n\u001b[1;32m   4796\u001b[0m     \u001b[38;5;241m*\u001b[39m\u001b[38;5;241m*\u001b[39mkwargs,\n\u001b[1;32m   4797\u001b[0m ) \u001b[38;5;241m-\u001b[39m\u001b[38;5;241m>\u001b[39m DataFrame \u001b[38;5;241m|\u001b[39m Series:\n\u001b[1;32m   4798\u001b[0m \u001b[38;5;250m    \u001b[39m\u001b[38;5;124;03m\"\"\"\u001b[39;00m\n\u001b[1;32m   4799\u001b[0m \u001b[38;5;124;03m    Invoke function on values of Series.\u001b[39;00m\n\u001b[1;32m   4800\u001b[0m \n\u001b[0;32m   (...)\u001b[0m\n\u001b[1;32m   4915\u001b[0m \u001b[38;5;124;03m    dtype: float64\u001b[39;00m\n\u001b[1;32m   4916\u001b[0m \u001b[38;5;124;03m    \"\"\"\u001b[39;00m\n\u001b[1;32m   4917\u001b[0m     \u001b[38;5;28;01mreturn\u001b[39;00m SeriesApply(\n\u001b[1;32m   4918\u001b[0m         \u001b[38;5;28mself\u001b[39m,\n\u001b[1;32m   4919\u001b[0m         func,\n\u001b[1;32m   4920\u001b[0m         convert_dtype\u001b[38;5;241m=\u001b[39mconvert_dtype,\n\u001b[1;32m   4921\u001b[0m         by_row\u001b[38;5;241m=\u001b[39mby_row,\n\u001b[1;32m   4922\u001b[0m         args\u001b[38;5;241m=\u001b[39margs,\n\u001b[1;32m   4923\u001b[0m         kwargs\u001b[38;5;241m=\u001b[39mkwargs,\n\u001b[0;32m-> 4924\u001b[0m     )\u001b[38;5;241m.\u001b[39mapply()\n",
      "File \u001b[0;32m~/anaconda3/lib/python3.11/site-packages/pandas/core/apply.py:1427\u001b[0m, in \u001b[0;36mSeriesApply.apply\u001b[0;34m(self)\u001b[0m\n\u001b[1;32m   1424\u001b[0m     \u001b[38;5;28;01mreturn\u001b[39;00m \u001b[38;5;28mself\u001b[39m\u001b[38;5;241m.\u001b[39mapply_compat()\n\u001b[1;32m   1426\u001b[0m \u001b[38;5;66;03m# self.func is Callable\u001b[39;00m\n\u001b[0;32m-> 1427\u001b[0m \u001b[38;5;28;01mreturn\u001b[39;00m \u001b[38;5;28mself\u001b[39m\u001b[38;5;241m.\u001b[39mapply_standard()\n",
      "File \u001b[0;32m~/anaconda3/lib/python3.11/site-packages/pandas/core/apply.py:1507\u001b[0m, in \u001b[0;36mSeriesApply.apply_standard\u001b[0;34m(self)\u001b[0m\n\u001b[1;32m   1501\u001b[0m \u001b[38;5;66;03m# row-wise access\u001b[39;00m\n\u001b[1;32m   1502\u001b[0m \u001b[38;5;66;03m# apply doesn't have a `na_action` keyword and for backward compat reasons\u001b[39;00m\n\u001b[1;32m   1503\u001b[0m \u001b[38;5;66;03m# we need to give `na_action=\"ignore\"` for categorical data.\u001b[39;00m\n\u001b[1;32m   1504\u001b[0m \u001b[38;5;66;03m# TODO: remove the `na_action=\"ignore\"` when that default has been changed in\u001b[39;00m\n\u001b[1;32m   1505\u001b[0m \u001b[38;5;66;03m#  Categorical (GH51645).\u001b[39;00m\n\u001b[1;32m   1506\u001b[0m action \u001b[38;5;241m=\u001b[39m \u001b[38;5;124m\"\u001b[39m\u001b[38;5;124mignore\u001b[39m\u001b[38;5;124m\"\u001b[39m \u001b[38;5;28;01mif\u001b[39;00m \u001b[38;5;28misinstance\u001b[39m(obj\u001b[38;5;241m.\u001b[39mdtype, CategoricalDtype) \u001b[38;5;28;01melse\u001b[39;00m \u001b[38;5;28;01mNone\u001b[39;00m\n\u001b[0;32m-> 1507\u001b[0m mapped \u001b[38;5;241m=\u001b[39m obj\u001b[38;5;241m.\u001b[39m_map_values(\n\u001b[1;32m   1508\u001b[0m     mapper\u001b[38;5;241m=\u001b[39mcurried, na_action\u001b[38;5;241m=\u001b[39maction, convert\u001b[38;5;241m=\u001b[39m\u001b[38;5;28mself\u001b[39m\u001b[38;5;241m.\u001b[39mconvert_dtype\n\u001b[1;32m   1509\u001b[0m )\n\u001b[1;32m   1511\u001b[0m \u001b[38;5;28;01mif\u001b[39;00m \u001b[38;5;28mlen\u001b[39m(mapped) \u001b[38;5;129;01mand\u001b[39;00m \u001b[38;5;28misinstance\u001b[39m(mapped[\u001b[38;5;241m0\u001b[39m], ABCSeries):\n\u001b[1;32m   1512\u001b[0m     \u001b[38;5;66;03m# GH#43986 Need to do list(mapped) in order to get treated as nested\u001b[39;00m\n\u001b[1;32m   1513\u001b[0m     \u001b[38;5;66;03m#  See also GH#25959 regarding EA support\u001b[39;00m\n\u001b[1;32m   1514\u001b[0m     \u001b[38;5;28;01mreturn\u001b[39;00m obj\u001b[38;5;241m.\u001b[39m_constructor_expanddim(\u001b[38;5;28mlist\u001b[39m(mapped), index\u001b[38;5;241m=\u001b[39mobj\u001b[38;5;241m.\u001b[39mindex)\n",
      "File \u001b[0;32m~/anaconda3/lib/python3.11/site-packages/pandas/core/base.py:921\u001b[0m, in \u001b[0;36mIndexOpsMixin._map_values\u001b[0;34m(self, mapper, na_action, convert)\u001b[0m\n\u001b[1;32m    918\u001b[0m \u001b[38;5;28;01mif\u001b[39;00m \u001b[38;5;28misinstance\u001b[39m(arr, ExtensionArray):\n\u001b[1;32m    919\u001b[0m     \u001b[38;5;28;01mreturn\u001b[39;00m arr\u001b[38;5;241m.\u001b[39mmap(mapper, na_action\u001b[38;5;241m=\u001b[39mna_action)\n\u001b[0;32m--> 921\u001b[0m \u001b[38;5;28;01mreturn\u001b[39;00m algorithms\u001b[38;5;241m.\u001b[39mmap_array(arr, mapper, na_action\u001b[38;5;241m=\u001b[39mna_action, convert\u001b[38;5;241m=\u001b[39mconvert)\n",
      "File \u001b[0;32m~/anaconda3/lib/python3.11/site-packages/pandas/core/algorithms.py:1743\u001b[0m, in \u001b[0;36mmap_array\u001b[0;34m(arr, mapper, na_action, convert)\u001b[0m\n\u001b[1;32m   1741\u001b[0m values \u001b[38;5;241m=\u001b[39m arr\u001b[38;5;241m.\u001b[39mastype(\u001b[38;5;28mobject\u001b[39m, copy\u001b[38;5;241m=\u001b[39m\u001b[38;5;28;01mFalse\u001b[39;00m)\n\u001b[1;32m   1742\u001b[0m \u001b[38;5;28;01mif\u001b[39;00m na_action \u001b[38;5;129;01mis\u001b[39;00m \u001b[38;5;28;01mNone\u001b[39;00m:\n\u001b[0;32m-> 1743\u001b[0m     \u001b[38;5;28;01mreturn\u001b[39;00m lib\u001b[38;5;241m.\u001b[39mmap_infer(values, mapper, convert\u001b[38;5;241m=\u001b[39mconvert)\n\u001b[1;32m   1744\u001b[0m \u001b[38;5;28;01melse\u001b[39;00m:\n\u001b[1;32m   1745\u001b[0m     \u001b[38;5;28;01mreturn\u001b[39;00m lib\u001b[38;5;241m.\u001b[39mmap_infer_mask(\n\u001b[1;32m   1746\u001b[0m         values, mapper, mask\u001b[38;5;241m=\u001b[39misna(values)\u001b[38;5;241m.\u001b[39mview(np\u001b[38;5;241m.\u001b[39muint8), convert\u001b[38;5;241m=\u001b[39mconvert\n\u001b[1;32m   1747\u001b[0m     )\n",
      "File \u001b[0;32mlib.pyx:2972\u001b[0m, in \u001b[0;36mpandas._libs.lib.map_infer\u001b[0;34m()\u001b[0m\n",
      "Cell \u001b[0;32mIn[65], line 12\u001b[0m, in \u001b[0;36m<lambda>\u001b[0;34m(url)\u001b[0m\n\u001b[1;32m      8\u001b[0m driver_hare \u001b[38;5;241m=\u001b[39m webdriver\u001b[38;5;241m.\u001b[39mChrome(options\u001b[38;5;241m=\u001b[39mchrome_options)\n\u001b[1;32m     10\u001b[0m df_hare_and_forbes \u001b[38;5;241m=\u001b[39m df_sub[df_sub[\u001b[38;5;124m'\u001b[39m\u001b[38;5;124mShop Name\u001b[39m\u001b[38;5;124m'\u001b[39m]\u001b[38;5;241m.\u001b[39mstr\u001b[38;5;241m.\u001b[39mcontains(\u001b[38;5;124m\"\u001b[39m\u001b[38;5;124mhare and forbes\u001b[39m\u001b[38;5;124m\"\u001b[39m, case\u001b[38;5;241m=\u001b[39m\u001b[38;5;28;01mFalse\u001b[39;00m, na\u001b[38;5;241m=\u001b[39m\u001b[38;5;28;01mFalse\u001b[39;00m, regex\u001b[38;5;241m=\u001b[39m\u001b[38;5;28;01mTrue\u001b[39;00m)]\u001b[38;5;241m.\u001b[39mcopy()\n\u001b[1;32m     11\u001b[0m df_hare_and_forbes[\u001b[38;5;124m'\u001b[39m\u001b[38;5;124mPrice\u001b[39m\u001b[38;5;124m'\u001b[39m] \u001b[38;5;241m=\u001b[39m df_hare_and_forbes[\u001b[38;5;124m'\u001b[39m\u001b[38;5;124mPRODUCT LINK\u001b[39m\u001b[38;5;124m'\u001b[39m]\u001b[38;5;241m.\u001b[39mapply(\n\u001b[0;32m---> 12\u001b[0m     \u001b[38;5;28;01mlambda\u001b[39;00m url: get_hares_and_forbes_price(url,driver)\n\u001b[1;32m     13\u001b[0m )\n\u001b[1;32m     14\u001b[0m \u001b[38;5;66;03m# Similarly, apply the scraper function on the BUNDLE LINK column\u001b[39;00m\n\u001b[1;32m     15\u001b[0m df_hare_and_forbes[\u001b[38;5;124m'\u001b[39m\u001b[38;5;124mPrice_Bundle\u001b[39m\u001b[38;5;124m'\u001b[39m] \u001b[38;5;241m=\u001b[39m df_hare_and_forbes[\u001b[38;5;124m'\u001b[39m\u001b[38;5;124mBUNDLE LINK\u001b[39m\u001b[38;5;124m'\u001b[39m]\u001b[38;5;241m.\u001b[39mapply(\n\u001b[1;32m     16\u001b[0m     \u001b[38;5;28;01mlambda\u001b[39;00m url: get_hares_and_forbes_price(url,driver)\n\u001b[1;32m     17\u001b[0m )\n",
      "\u001b[0;31mTypeError\u001b[0m: get_hares_and_forbes_price() takes 1 positional argument but 2 were given"
     ]
    }
   ],
   "source": [
    "def get_hares_and_forbes_price(url,driver):\n",
    "    \n",
    "    xpath_price = \"/html/body/div[1]/div[3]/main/section/div/div[4]/div[2]/div[1]/div[3]/div/div[2]/span\"\n",
    "    try:     \n",
    "        driver.get(url)\n",
    "        time.sleep(10)  # Adjust as necessary based on your connection and the site's response\n",
    "        price_element = driver.find_element(By.XPATH, xpath_price)\n",
    "        price = price_element.text   \n",
    "    except Exception as e:  \n",
    "        price = None \n",
    "    return price\n",
    "\n",
    "chrome_options = Options()\n",
    "chrome_options.add_argument(\"--disable-blink-features=AutomationControlled\")\n",
    "chrome_options.add_argument(\"--no-sandbox\")\n",
    "chrome_options.add_argument(\"--disable-infobars\")\n",
    "chrome_options.add_argument(\"--disable-dev-shm-usage\")\n",
    "\n",
    "driver_hare = webdriver.Chrome(options=chrome_options)\n",
    "\n",
    "df_hare_and_forbes = df_sub[df_sub['Shop Name'].str.contains(\"hare and forbes\", case=False, na=False, regex=True)].copy()\n",
    "df_hare_and_forbes['Price'] = df_hare_and_forbes['PRODUCT LINK'].apply(\n",
    "    lambda url: get_hares_and_forbes_price(url,driver)\n",
    ")\n",
    "\n",
    "# Similarly, apply the scraper function on the BUNDLE LINK column\n",
    "df_hare_and_forbes['Price_Bundle'] = df_hare_and_forbes['BUNDLE LINK'].apply(\n",
    "    lambda url: get_hares_and_forbes_price(url,driver)\n",
    ")\n",
    "\n",
    "driver_hare.quit()\n"
   ]
  },
  {
   "cell_type": "code",
   "execution_count": 60,
   "id": "eab90591-d52a-4656-a5c1-041af7a3e0bd",
   "metadata": {},
   "outputs": [],
   "source": [
    "driver.close()"
   ]
  },
  {
   "cell_type": "code",
   "execution_count": null,
   "id": "62d71bdb-f260-4823-8eac-0cd11567703a",
   "metadata": {},
   "outputs": [],
   "source": [
    "combined_df = pd.concat([df_sydney_tools,df_vektools,df_totaltools,df_wa_industrial_website,df_kennedys,df_toolswarehouse,df_ebay, df_electroweld_website, df_supercheapauto,df_biba_website,df_gentronics,df_weld_com,df_weldconnect,df_metro_welder_service,df_toolkit_depot], ignore_index=True)\n",
    "\n",
    "# Sort the combined dataframe by the \"PRODUCT NAME\" column\n",
    "combined_df.sort_values(\"PRODUCT NAME\", inplace=True)"
   ]
  },
  {
   "cell_type": "code",
   "execution_count": null,
   "id": "236e9bfc-a09f-4c4f-b2cf-1811d7b67736",
   "metadata": {},
   "outputs": [],
   "source": [
    "combined_df.info()"
   ]
  },
  {
   "cell_type": "code",
   "execution_count": null,
   "id": "42a861c7-c542-43bb-843e-9c4224c9f749",
   "metadata": {},
   "outputs": [],
   "source": [
    "combined_df.to_csv('combined.csv',index=False)"
   ]
  },
  {
   "cell_type": "code",
   "execution_count": null,
   "id": "0d25930b-c4fe-4856-8687-1a77bb3602fb",
   "metadata": {},
   "outputs": [],
   "source": [
    "completed_unique_shops = combined_df['Shop Name'].unique()\n",
    "print(completed_unique_shops)\n",
    "for i in completed_unique_shops:\n",
    "    print(i)"
   ]
  },
  {
   "cell_type": "code",
   "execution_count": null,
   "id": "3e495186-135e-4e03-a232-20a937830aa4",
   "metadata": {},
   "outputs": [],
   "source": [
    "unique_shops = df_sub['Shop Name'].unique()"
   ]
  },
  {
   "cell_type": "code",
   "execution_count": null,
   "id": "a0527685-a8ac-488d-9002-52fad90c50d0",
   "metadata": {},
   "outputs": [],
   "source": [
    "not_completed = list(set(unique_shops) - set(completed_unique_shops))\n",
    "for i in not_completed:\n",
    "    print(i)\n",
    "print(str(len(not_completed)-1)+\"/\"+str((len(unique_shops)-1)))"
   ]
  },
  {
   "cell_type": "code",
   "execution_count": null,
   "id": "db9dfd97-0495-40ad-bc6d-5acd6dc2d941",
   "metadata": {},
   "outputs": [],
   "source": [
    "# Assuming these data frames are defined:\n",
    "# df_kennedys, df_toolswarehouse, df_ebay, df_electroweld_website, \n",
    "# df_supercheapauto, df_biba_website, df_gentronics, df_weld_com, \n",
    "# df_weldconnect, df_metro_welder_service, df_toolkit_depot\n",
    "\n",
    "dfs = {\n",
    "    \"df_kennedys\": df_kennedys,\n",
    "    \"df_toolswarehouse\": df_toolswarehouse,\n",
    "    \"df_ebay\": df_ebay,\n",
    "    \"df_electroweld_website\": df_electroweld_website,\n",
    "    \"df_supercheapauto\": df_supercheapauto,\n",
    "    \"df_biba_website\": df_biba_website,\n",
    "    \"df_gentronics\": df_gentronics,\n",
    "    \"df_weld_com\": df_weld_com,\n",
    "    \"df_weldconnect\": df_weldconnect,\n",
    "    \"df_metro_welder_service\": df_metro_welder_service,\n",
    "    \"df_toolkit_depot\": df_toolkit_depot,\n",
    "}\n",
    "\n",
    "for name, df in dfs.items():\n",
    "    print(f\"{name} has {len(df)} rows\")\n"
   ]
  },
  {
   "cell_type": "code",
   "execution_count": null,
   "id": "3fee6adb-83b4-4c47-bc6a-a0ddf0505bb1",
   "metadata": {},
   "outputs": [],
   "source": [
    "    # Close the driver when done.\n",
    "    close_driver(driver)"
   ]
  },
  {
   "cell_type": "code",
   "execution_count": null,
   "id": "bfd4bcd8-b8f9-461b-ba87-6c8466e972e9",
   "metadata": {},
   "outputs": [],
   "source": []
  },
  {
   "cell_type": "code",
   "execution_count": null,
   "id": "0016625c-ba14-475f-a142-36b88122e54a",
   "metadata": {},
   "outputs": [],
   "source": []
  },
  {
   "cell_type": "code",
   "execution_count": null,
   "id": "cd83407a-117d-4952-b9e6-585c11d854a6",
   "metadata": {},
   "outputs": [],
   "source": []
  },
  {
   "cell_type": "code",
   "execution_count": null,
   "id": "b4d9be12-a4d4-4de1-bf05-9e62c366f161",
   "metadata": {},
   "outputs": [],
   "source": []
  }
 ],
 "metadata": {
  "kernelspec": {
   "display_name": "Python [conda env:base] *",
   "language": "python",
   "name": "conda-base-py"
  },
  "language_info": {
   "codemirror_mode": {
    "name": "ipython",
    "version": 3
   },
   "file_extension": ".py",
   "mimetype": "text/x-python",
   "name": "python",
   "nbconvert_exporter": "python",
   "pygments_lexer": "ipython3",
   "version": "3.11.8"
  }
 },
 "nbformat": 4,
 "nbformat_minor": 5
}
