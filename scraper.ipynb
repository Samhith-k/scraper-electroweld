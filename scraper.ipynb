{
 "cells": [
  {
   "cell_type": "code",
   "execution_count": 1,
   "id": "044c4997",
   "metadata": {},
   "outputs": [],
   "source": [
    "import pandas as pd\n",
    "import numpy as np\n",
    "from openpyxl import load_workbook\n",
    "from openpyxl.utils.dataframe import dataframe_to_rows\n",
    "from openpyxl.worksheet.worksheet import Worksheet\n",
    "import os\n",
    "import datetime\n",
    "import re"
   ]
  },
  {
   "cell_type": "code",
   "execution_count": 2,
   "id": "8e32002a",
   "metadata": {},
   "outputs": [
    {
     "data": {
      "text/plain": [
       "Index(['BRAND', 'PRODUCT SKU', 'PRODUCT NAME', 'Shop Name', 'PRODUCT LINK',\n",
       "       'Note', 'BUNDLE LINK', 'Comment', 'Unnamed: 8', 'Unnamed: 9',\n",
       "       'Unnamed: 10', 'Unnamed: 11'],\n",
       "      dtype='object')"
      ]
     },
     "execution_count": 2,
     "metadata": {},
     "output_type": "execute_result"
    }
   ],
   "source": [
    "df = pd.read_excel('Pricing.xlsx',sheet_name=\"Sheet2\")\n",
    "df.columns"
   ]
  },
  {
   "cell_type": "code",
   "execution_count": 3,
   "id": "a8574e35",
   "metadata": {},
   "outputs": [],
   "source": [
    "df['PRODUCT SKU'] = df['PRODUCT SKU'].str.strip().str.upper()\n",
    "df['PRODUCT NAME'] = df['PRODUCT NAME'].str.strip().str.upper()\n",
    "df['Shop Name'] = df['Shop Name'].str.strip().str.upper()\n",
    "\n",
    "# Append ' EBAY' to \"Shop Name\" where it equals 'WA INDUSTRIAL SUPPLIES'\n",
    "df.loc[df['Shop Name'] == 'WA INDUSTRIAL SUPPLIES', 'Shop Name'] += ' EBAY'\n",
    "\n",
    "\n",
    "df_sub = df[['BRAND', 'PRODUCT SKU', 'PRODUCT NAME', 'Shop Name', 'PRODUCT LINK',\n",
    "       'Note', 'BUNDLE LINK', 'Comment']].copy()"
   ]
  },
  {
   "cell_type": "code",
   "execution_count": 4,
   "id": "dbed9f47",
   "metadata": {},
   "outputs": [
    {
     "data": {
      "text/html": [
       "<div>\n",
       "<style scoped>\n",
       "    .dataframe tbody tr th:only-of-type {\n",
       "        vertical-align: middle;\n",
       "    }\n",
       "\n",
       "    .dataframe tbody tr th {\n",
       "        vertical-align: top;\n",
       "    }\n",
       "\n",
       "    .dataframe thead th {\n",
       "        text-align: right;\n",
       "    }\n",
       "</style>\n",
       "<table border=\"1\" class=\"dataframe\">\n",
       "  <thead>\n",
       "    <tr style=\"text-align: right;\">\n",
       "      <th></th>\n",
       "      <th>BRAND</th>\n",
       "      <th>PRODUCT SKU</th>\n",
       "      <th>PRODUCT NAME</th>\n",
       "      <th>Shop Name</th>\n",
       "      <th>PRODUCT LINK</th>\n",
       "      <th>Note</th>\n",
       "      <th>BUNDLE LINK</th>\n",
       "      <th>Comment</th>\n",
       "    </tr>\n",
       "  </thead>\n",
       "  <tbody>\n",
       "    <tr>\n",
       "      <th>0</th>\n",
       "      <td>Unimig</td>\n",
       "      <td>U11005K</td>\n",
       "      <td>VIPER 135</td>\n",
       "      <td>ELECTROWELD WEBSITE</td>\n",
       "      <td>https://www.electroweld.com.au/product/unimig-...</td>\n",
       "      <td>NaN</td>\n",
       "      <td>NaN</td>\n",
       "      <td>NaN</td>\n",
       "    </tr>\n",
       "    <tr>\n",
       "      <th>1</th>\n",
       "      <td>Unimig</td>\n",
       "      <td>U11005K</td>\n",
       "      <td>VIPER 135</td>\n",
       "      <td>ELECTROWELD EBAY</td>\n",
       "      <td>https://www.ebay.com.au/itm/275880137475?itmme...</td>\n",
       "      <td>NaN</td>\n",
       "      <td>NaN</td>\n",
       "      <td>NaN</td>\n",
       "    </tr>\n",
       "    <tr>\n",
       "      <th>2</th>\n",
       "      <td>Unimig</td>\n",
       "      <td>U11005K</td>\n",
       "      <td>VIPER 135</td>\n",
       "      <td>HAMPDON EBAY</td>\n",
       "      <td>https://www.ebay.com.au/sch/i.html?_from=R40&amp;_...</td>\n",
       "      <td>NaN</td>\n",
       "      <td>NaN</td>\n",
       "      <td>NaN</td>\n",
       "    </tr>\n",
       "    <tr>\n",
       "      <th>3</th>\n",
       "      <td>Unimig</td>\n",
       "      <td>U11005K</td>\n",
       "      <td>VIPER 135</td>\n",
       "      <td>WA INDUSTRIAL SUPPLIES WEBSITE</td>\n",
       "      <td>https://www.waindustrialsupplies.net/product/v...</td>\n",
       "      <td>NaN</td>\n",
       "      <td>NaN</td>\n",
       "      <td>NaN</td>\n",
       "    </tr>\n",
       "    <tr>\n",
       "      <th>4</th>\n",
       "      <td>Unimig</td>\n",
       "      <td>U11005K</td>\n",
       "      <td>VIPER 135</td>\n",
       "      <td>WA INDUSTRIAL SUPPLIES EBAY</td>\n",
       "      <td>https://www.ebay.com.au/itm/186207493192?epid=...</td>\n",
       "      <td>NaN</td>\n",
       "      <td>NaN</td>\n",
       "      <td>NaN</td>\n",
       "    </tr>\n",
       "  </tbody>\n",
       "</table>\n",
       "</div>"
      ],
      "text/plain": [
       "    BRAND PRODUCT SKU PRODUCT NAME                       Shop Name  \\\n",
       "0  Unimig     U11005K    VIPER 135             ELECTROWELD WEBSITE   \n",
       "1  Unimig     U11005K    VIPER 135                ELECTROWELD EBAY   \n",
       "2  Unimig     U11005K    VIPER 135                    HAMPDON EBAY   \n",
       "3  Unimig     U11005K    VIPER 135  WA INDUSTRIAL SUPPLIES WEBSITE   \n",
       "4  Unimig     U11005K    VIPER 135     WA INDUSTRIAL SUPPLIES EBAY   \n",
       "\n",
       "                                        PRODUCT LINK Note BUNDLE LINK Comment  \n",
       "0  https://www.electroweld.com.au/product/unimig-...  NaN         NaN     NaN  \n",
       "1  https://www.ebay.com.au/itm/275880137475?itmme...  NaN         NaN     NaN  \n",
       "2  https://www.ebay.com.au/sch/i.html?_from=R40&_...  NaN         NaN     NaN  \n",
       "3  https://www.waindustrialsupplies.net/product/v...  NaN         NaN     NaN  \n",
       "4  https://www.ebay.com.au/itm/186207493192?epid=...  NaN         NaN     NaN  "
      ]
     },
     "execution_count": 4,
     "metadata": {},
     "output_type": "execute_result"
    }
   ],
   "source": [
    "# Forward fill only select columns\n",
    "df_sub[['BRAND', 'PRODUCT SKU','PRODUCT NAME']] = df_sub[['BRAND', 'PRODUCT SKU','PRODUCT NAME']].ffill()\n",
    "\n",
    "\n",
    "df_sub.head()"
   ]
  },
  {
   "cell_type": "code",
   "execution_count": 5,
   "id": "5a162e96",
   "metadata": {},
   "outputs": [
    {
     "data": {
      "text/html": [
       "<div>\n",
       "<style scoped>\n",
       "    .dataframe tbody tr th:only-of-type {\n",
       "        vertical-align: middle;\n",
       "    }\n",
       "\n",
       "    .dataframe tbody tr th {\n",
       "        vertical-align: top;\n",
       "    }\n",
       "\n",
       "    .dataframe thead th {\n",
       "        text-align: right;\n",
       "    }\n",
       "</style>\n",
       "<table border=\"1\" class=\"dataframe\">\n",
       "  <thead>\n",
       "    <tr style=\"text-align: right;\">\n",
       "      <th></th>\n",
       "      <th>Shop Name</th>\n",
       "      <th>PRODUCT LINK</th>\n",
       "    </tr>\n",
       "  </thead>\n",
       "  <tbody>\n",
       "    <tr>\n",
       "      <th>0</th>\n",
       "      <td>ELECTROWELD WEBSITE</td>\n",
       "      <td>https://www.electroweld.com.au/product/unimig-...</td>\n",
       "    </tr>\n",
       "    <tr>\n",
       "      <th>1</th>\n",
       "      <td>ELECTROWELD EBAY</td>\n",
       "      <td>https://www.ebay.com.au/itm/275880137475?itmme...</td>\n",
       "    </tr>\n",
       "    <tr>\n",
       "      <th>22</th>\n",
       "      <td>ELECTROWELD EBAY</td>\n",
       "      <td>https://www.ebay.com.au/itm/285104945700?itmme...</td>\n",
       "    </tr>\n",
       "    <tr>\n",
       "      <th>25</th>\n",
       "      <td>ELECTROWELD WEBSITE</td>\n",
       "      <td>https://www.electroweld.com.au/product/unimig-...</td>\n",
       "    </tr>\n",
       "    <tr>\n",
       "      <th>35</th>\n",
       "      <td>ELECTROWELD WEBSITE</td>\n",
       "      <td>https://www.electroweld.com.au/product/unimig-...</td>\n",
       "    </tr>\n",
       "    <tr>\n",
       "      <th>...</th>\n",
       "      <td>...</td>\n",
       "      <td>...</td>\n",
       "    </tr>\n",
       "    <tr>\n",
       "      <th>1033</th>\n",
       "      <td>ELECTROWELD EBAY</td>\n",
       "      <td>NaN</td>\n",
       "    </tr>\n",
       "    <tr>\n",
       "      <th>1061</th>\n",
       "      <td>ELECTROWELD WEBSITE</td>\n",
       "      <td>https://www.electroweld.com.au/product/unimig-...</td>\n",
       "    </tr>\n",
       "    <tr>\n",
       "      <th>1062</th>\n",
       "      <td>ELECTROWELD EBAY</td>\n",
       "      <td>https://www.ebay.com.au/itm/275214903410?_skw=...</td>\n",
       "    </tr>\n",
       "    <tr>\n",
       "      <th>1092</th>\n",
       "      <td>ELECTROWELD WEBSITE</td>\n",
       "      <td>NaN</td>\n",
       "    </tr>\n",
       "    <tr>\n",
       "      <th>1093</th>\n",
       "      <td>ELECTROWELD EBAY</td>\n",
       "      <td>https://www.ebay.com.au/itm/276821565411?_skw=...</td>\n",
       "    </tr>\n",
       "  </tbody>\n",
       "</table>\n",
       "<p>80 rows × 2 columns</p>\n",
       "</div>"
      ],
      "text/plain": [
       "                Shop Name                                       PRODUCT LINK\n",
       "0     ELECTROWELD WEBSITE  https://www.electroweld.com.au/product/unimig-...\n",
       "1        ELECTROWELD EBAY  https://www.ebay.com.au/itm/275880137475?itmme...\n",
       "22       ELECTROWELD EBAY  https://www.ebay.com.au/itm/285104945700?itmme...\n",
       "25    ELECTROWELD WEBSITE  https://www.electroweld.com.au/product/unimig-...\n",
       "35    ELECTROWELD WEBSITE  https://www.electroweld.com.au/product/unimig-...\n",
       "...                   ...                                                ...\n",
       "1033     ELECTROWELD EBAY                                                NaN\n",
       "1061  ELECTROWELD WEBSITE  https://www.electroweld.com.au/product/unimig-...\n",
       "1062     ELECTROWELD EBAY  https://www.ebay.com.au/itm/275214903410?_skw=...\n",
       "1092  ELECTROWELD WEBSITE                                                NaN\n",
       "1093     ELECTROWELD EBAY  https://www.ebay.com.au/itm/276821565411?_skw=...\n",
       "\n",
       "[80 rows x 2 columns]"
      ]
     },
     "execution_count": 5,
     "metadata": {},
     "output_type": "execute_result"
    }
   ],
   "source": [
    "#Example for Electroweld subset\n",
    "elctro = df_sub[df_sub['Shop Name'].str.contains('electroweld', case=False, na=False, regex=True)][['Shop Name','PRODUCT LINK']]\n",
    "\n",
    "elctro"
   ]
  },
  {
   "cell_type": "code",
   "execution_count": 6,
   "id": "53ab6ea2",
   "metadata": {},
   "outputs": [
    {
     "name": "stdout",
     "output_type": "stream",
     "text": [
      "AU $378.95\n"
     ]
    }
   ],
   "source": [
    "import httpx\n",
    "from parsel import Selector\n",
    "import numpy as np\n",
    "import pandas as pd\n",
    "\n",
    "def get_ebay_price(url: str) -> str:\n",
    "    \"\"\"\n",
    "    Given an eBay product URL, fetches the page and returns the original price.\n",
    "    If a timeout occurs, returns np.nan.\n",
    "    \"\"\"\n",
    "    # First check if url is a valid, non-empty string.\n",
    "    if pd.isna(url) or not isinstance(url, str) or url.strip() == \"\":\n",
    "        return np.nan\n",
    "\n",
    "    # Now safe to check length (though this is redundant with url.strip() check)\n",
    "    if len(url) == 0:\n",
    "        return -1\n",
    "    \n",
    "    # establish our HTTP2 client with browser-like headers\n",
    "    session = httpx.Client(\n",
    "        headers={\n",
    "            \"User-Agent\": \"Mozilla/5.0 (Windows NT 10.0; Win64; x64) AppleWebKit/537.36 (KHTML, like Gecko) Chrome/113.0.0.0 Safari/537.36 Edg/113.0.1774.35\",\n",
    "            \"Accept\": \"text/html,application/xhtml+xml,application/xml;q=0.9,image/avif,image/webp,image/apng,/;q=0.8,application/signed-exchange;v=b3;q=0.7\",\n",
    "            \"Accept-Language\": \"en-US,en;q=0.9\",\n",
    "            \"Accept-Encoding\": \"gzip, deflate, br\",\n",
    "        },\n",
    "        http2=True,\n",
    "        follow_redirects=True\n",
    "    )\n",
    "    \n",
    "    try:\n",
    "        # Fetch the webpage with an explicit timeout of 15 seconds.\n",
    "        response = session.get(url, timeout=15.0)\n",
    "    except httpx.ReadTimeout:\n",
    "        return np.nan\n",
    "    except Exception as e:\n",
    "        return np.nan\n",
    "\n",
    "    sel = Selector(response.text)\n",
    "    \n",
    "    # helper function to extract and strip text via CSS selectors\n",
    "    css = lambda query: sel.css(query).get(default=\"\").strip()\n",
    "    \n",
    "    # extract the original price\n",
    "    price_original = css(\".x-price-primary>span::text\")\n",
    "    \n",
    "    return price_original\n",
    "\n",
    "# Example usage:\n",
    "if __name__ == \"__main__\":\n",
    "    url = \"https://www.ebay.com.au/itm/275880137475?itmmeta=01J3RRGZ6RGRZ1PA0NB89D3ANK&hash=item403bbcd303:g:FG4AAOSwW1lmc0i2:sc:AU_RegularParcelWithTrackingAndSignature!2190!AU!-1&itmprp=enc%3AAQAJAAAA0Jo7zG6ZrYn%2F5GTELNdvHESu%2F8%2BPfiWY9kU--0LUo18ZDC%2BkIaIZvbRp1qI9So5TpISckKJtf4oGgV7V5XLYXMhG%2FLVX497kkF4F%2BcZyu0ELdaH4TYhi3PZ%2B%2BG7xxw75rLO07cwbga6GANQK6eH5xnlQBFG02TBJBi4CCfYH8LVydeSYVPiJ8rWQKbaKABcsxdxl%2B4uJjP6Ops8YFB%2BzE7T3l62OMSCzA63O1oEmgLiiOQySiIwlAiRx%2Fu3oj4L0GrlW2ZSPf1mHsjewL9BaDsQ%3D%7Ctkp%3ABk9SR7zzw5ieZA\"\n",
    "    print(get_ebay_price(url))\n"
   ]
  },
  {
   "cell_type": "code",
   "execution_count": 7,
   "id": "0b0fbd65-c42f-4ac1-86d5-5c61c18bb1c0",
   "metadata": {},
   "outputs": [
    {
     "name": "stdout",
     "output_type": "stream",
     "text": [
      "Product Price: 379.00\n"
     ]
    }
   ],
   "source": [
    "def get_electroweld_website_price(url: str) -> str:\n",
    "    \"\"\"\n",
    "    Fetch the product page from the given URL and return the product price as a string.\n",
    "    \"\"\"\n",
    "    if pd.isna(url) or not isinstance(url, str) or url.strip() == \"\":\n",
    "        return np.nan\n",
    "    if len(url) == 0:\n",
    "        return -1\n",
    "    if not url.startswith(\"https://www.electroweld.com.au/product/\"):\n",
    "        return -1\n",
    "    session = httpx.Client(\n",
    "        headers={\n",
    "            \"User-Agent\": \"Mozilla/5.0 (Windows NT 10.0; Win64; x64) AppleWebKit/537.36 \"\n",
    "                          \"(KHTML, like Gecko) Chrome/113.0.0.0 Safari/537.36\",\n",
    "            \"Accept\": \"text/html,application/xhtml+xml,application/xml;q=0.9,image/webp,*/*;q=0.8\",\n",
    "        },\n",
    "        follow_redirects=True\n",
    "    )\n",
    "    try:\n",
    "        response = session.get(url)\n",
    "    except httpx.ReadTimeout:\n",
    "        return np.nan\n",
    "    except Exception as e:\n",
    "        return np.nan\n",
    "    sel = Selector(response.text)\n",
    "    css = lambda query: sel.css(query).get(default=\"\").strip()\n",
    "    \n",
    "\n",
    "    # Extract the price text from the page.\n",
    "    price_text = css(\"p.w-post-elm.product_field.price span.woocommerce-Price-amount.amount bdi::text\")\n",
    "    # Remove a leading currency symbol if present.\n",
    "    if price_text.startswith(\"$\"):\n",
    "        price_text = price_text[1:]\n",
    "    return price_text\n",
    "\n",
    "url = \"https://www.electroweld.com.au/product/unimig-viper-135-multi-3-in-1-mig-tig-stick-welder-welding-torch-mma-u11005k/\"\n",
    "price = get_electroweld_website_price(url)\n",
    "print(\"Product Price:\", price)"
   ]
  },
  {
   "cell_type": "code",
   "execution_count": 8,
   "id": "3e456448-07b4-49d9-aaac-1fd427129de8",
   "metadata": {},
   "outputs": [
    {
     "name": "stdout",
     "output_type": "stream",
     "text": [
      "1,439.00\n"
     ]
    }
   ],
   "source": [
    "def get_bilba_website_price(url: str) -> str:\n",
    "\n",
    "    if pd.isna(url) or not isinstance(url, str) or url.strip() == \"\":\n",
    "        return np.nan\n",
    "    if len(url) == 0:\n",
    "        return np.nan\n",
    "    if not url.startswith(\"https://bilba.com.au/products\"):\n",
    "        return np.nan\n",
    "    \"\"\"\n",
    "    Fetch the product page from the given URL and return the product price as a string.\n",
    "    The price is extracted from a <span> element with class \"price-item price-item-regular\".\n",
    "    \"\"\"\n",
    "    # Create an HTTP client with appropriate headers.\n",
    "    with httpx.Client(\n",
    "        headers={\n",
    "            \"User-Agent\": (\"Mozilla/5.0 (Windows NT 10.0; Win64; x64) AppleWebKit/537.36 \"\n",
    "                           \"(KHTML, like Gecko) Chrome/113.0.0.0 Safari/537.36\"),\n",
    "            \"Accept\": \"text/html,application/xhtml+xml,application/xml;q=0.9,image/webp,*/*;q=0.8\",\n",
    "        },\n",
    "        follow_redirects=True\n",
    "    ) as client:\n",
    "        response = client.get(url)\n",
    "\n",
    "    # Use parsel to parse the HTML content.\n",
    "    sel = Selector(response.text)\n",
    "    \n",
    "    # Extract the price text from the <span> element.\n",
    "    price_text = sel.css(\"span.price-item.price-item-regular::text\").get(default=\"\").strip()\n",
    "    \n",
    "    # Optionally remove any leading currency symbol, if needed.\n",
    "    if price_text.startswith(\"$\"):\n",
    "        price_text = price_text[1:]\n",
    "        \n",
    "    return price_text\n",
    "url = \"https://bilba.com.au/products/unimig-razor-multi-175-welder?srsltid=AfmBOoqrcyItnYkdHvmmHMrp6Z7N-pFgOuiv_wJhyPmV19CKmUt5LIBi\"\n",
    "price = get_bilba_website_price(url)\n",
    "print( price)"
   ]
  },
  {
   "cell_type": "code",
   "execution_count": 10,
   "id": "04378537-657c-4921-8ca9-2352b323f55b",
   "metadata": {},
   "outputs": [
    {
     "name": "stdout",
     "output_type": "stream",
     "text": [
      "1199.00\n"
     ]
    }
   ],
   "source": [
    "def get_gentronics_website_price(url: str) -> str:\n",
    "    \"\"\"\n",
    "    Fetch the product page from the given URL and return the product price as a string.\n",
    "    The price is stored in a <p> element with class=\"gentronics-price price\".\n",
    "    \"\"\"\n",
    "    # Basic checks for URL validity\n",
    "    if pd.isna(url) or not isinstance(url, str) or url.strip() == \"\":\n",
    "        return np.nan\n",
    "    if len(url) == 0:\n",
    "        return np.nan\n",
    "    \n",
    "    # Check that the URL starts with the desired domain\n",
    "    if not url.startswith(\"https://www.googleadservices.com/pagead/aclk\") and not url.startswith(\"https://www.gentronics.com.au/\"):\n",
    "        return np.nan\n",
    "    \n",
    "    # Create an HTTP client with appropriate headers\n",
    "    session = httpx.Client(\n",
    "        headers={\n",
    "            \"User-Agent\": \"Mozilla/5.0 (Windows NT 10.0; Win64; x64) \"\n",
    "                          \"AppleWebKit/537.36 (KHTML, like Gecko) Chrome/113.0.0.0 Safari/537.36\",\n",
    "            \"Accept\": \"text/html,application/xhtml+xml,application/xml;q=0.9,image/webp,*/*;q=0.8\",\n",
    "        },\n",
    "        follow_redirects=True\n",
    "    )\n",
    "    \n",
    "    # Fetch the page\n",
    "    try:\n",
    "        response = session.get(url)\n",
    "    except:\n",
    "        return np.nan\n",
    "    sel = Selector(response.text)\n",
    "    \n",
    "    # Helper function for CSS selection\n",
    "    css = lambda query: sel.css(query).get(default=\"\").strip()\n",
    "    \n",
    "    # Extract the price text from <p class=\"gentronics-price price\">\n",
    "    price_text = css(\"p.gentronics-price.price::text\")\n",
    "    \n",
    "    # Remove a leading currency symbol if present\n",
    "    if price_text.startswith(\"$\"):\n",
    "        price_text = price_text[1:]\n",
    "    price_text = price_text.replace(\"per item\", \"\").strip()\n",
    "    \n",
    "    return price_text\n",
    "\n",
    "# Example usage\n",
    "if __name__ == \"__main__\":\n",
    "    test_url = (\n",
    "        \"https://www.googleadservices.com/pagead/aclk?sa=L&ai=DChcSEwjZ9uvXloaLAxU2qGYCHVOQD4oYABAEGgJzbQ&ae=2&aspm=1&co=1&ase=5&gclid=Cj0KCQiAhbi8BhDIARIsAJLOlufVl2KRd0vNv4v9hFa9sC_238MQii4XHsBkOTRn3QUpKMJwPGiQne4aAoLtEALw_wcB&ohost=www.google.com&cid=CAESVeD2k-VpUGbx3aGmilsMu45ZMV1Bprr20N9Gm98bkCSwJQ8jp06PNpCmx-boJX920KleNkC6xKJ8zDKPZs-bKKEYQsYqhnX8VLcD2NqlOMrbMcc2p-A&sig=AOD64_03qiZGD-PJa-lfD8uzdS3I3IM9kQ&ctype=5&q=&ved=2ahUKEwjTsubXloaLAxXByTgGHQiRMmYQww8oAnoECAgQCg&adurl=\"\n",
    "        # your full URL here\n",
    "    )\n",
    "    price = get_gentronics_website_price(test_url)\n",
    "    print(price)\n"
   ]
  },
  {
   "cell_type": "code",
   "execution_count": 11,
   "id": "a9805c52-a8d1-43b9-a685-51ea2d09a23c",
   "metadata": {},
   "outputs": [
    {
     "name": "stdout",
     "output_type": "stream",
     "text": [
      "1,669.00\n"
     ]
    }
   ],
   "source": [
    "def get_weld_com_au_price(url: str) -> str:\n",
    "    \"\"\"\n",
    "    Fetch the product page from the given URL and return the product price as a string.\n",
    "    The price is stored in:\n",
    "    <p class=\"price\">\n",
    "        <span class=\"woocommerce-Price-amount amount\">\n",
    "            <bdi>\n",
    "                <span class=\"woocommerce-Price-currencySymbol\">$</span>1,669.00\n",
    "            </bdi>\n",
    "        </span>\n",
    "    </p>\n",
    "    \"\"\"\n",
    "    # Basic checks for URL validity\n",
    "    if pd.isna(url) or not isinstance(url, str) or url.strip() == \"\":\n",
    "        return np.nan\n",
    "    if len(url) == 0:\n",
    "        return -1\n",
    "    # Ensure the URL starts with the Weld product URL base.\n",
    "    if not url.startswith(\"https://www.weld.com.au/product/\"):\n",
    "        return -1\n",
    "    \n",
    "    # Create an HTTP client with appropriate headers.\n",
    "    session = httpx.Client(\n",
    "        headers={\n",
    "            \"User-Agent\": (\"Mozilla/5.0 (Windows NT 10.0; Win64; x64) \"\n",
    "                           \"AppleWebKit/537.36 (KHTML, like Gecko) Chrome/113.0.0.0 Safari/537.36\"),\n",
    "            \"Accept\": \"text/html,application/xhtml+xml,application/xml;q=0.9,image/webp,*/*;q=0.8\",\n",
    "        },\n",
    "        follow_redirects=True\n",
    "    )\n",
    "    \n",
    "    # Fetch the page\n",
    "    response = session.get(url)\n",
    "    sel = Selector(response.text)\n",
    "    css = lambda query: sel.css(query).get(default=\"\").strip()\n",
    "    \n",
    "    # Extract the price text using the appropriate CSS selector.\n",
    "    price_text = css(\"p.price span.woocommerce-Price-amount.amount bdi::text\")\n",
    "    \n",
    "    # Remove a leading currency symbol if present.\n",
    "    if price_text.startswith(\"$\"):\n",
    "        price_text = price_text[1:]\n",
    "    \n",
    "    return price_text\n",
    "\n",
    "# Example usage:\n",
    "if __name__ == \"__main__\":\n",
    "    url = \"https://www.weld.com.au/product/unimig-razor-multi-175-bundle-pk11091/?v=6502139931c4\"\n",
    "    price = get_weld_com_au_price(url)\n",
    "    print( price)\n"
   ]
  },
  {
   "cell_type": "code",
   "execution_count": 12,
   "id": "c1fd79b6-76c9-48c3-ac80-2f446d2dbad6",
   "metadata": {},
   "outputs": [],
   "source": [
    "def get_weldconnect_price(url: str) -> str:\n",
    "\n",
    "    if pd.isna(url) or not isinstance(url, str) or url.strip() == \"\":\n",
    "        return np.nan\n",
    "    if len(url) == 0:\n",
    "        return np.nan\n",
    "    if not url.startswith(\"https://www.weldconnect.com.au/\"):\n",
    "        return np.nan\n",
    "\n",
    "    try:\n",
    "        with httpx.Client(\n",
    "            headers={\n",
    "                \"User-Agent\": (\"Mozilla/5.0 (Windows NT 10.0; Win64; x64) \"\n",
    "                               \"AppleWebKit/537.36 (KHTML, like Gecko) Chrome/113.0.0.0 Safari/537.36\"),\n",
    "                \"Accept\": \"text/html,application/xhtml+xml,application/xml;q=0.9,image/webp,*/*;q=0.8\",\n",
    "            },\n",
    "            follow_redirects=True\n",
    "        ) as session:\n",
    "            # Set an explicit timeout (in seconds) for the request.\n",
    "            response = session.get(url, timeout=15.0)\n",
    "    except httpx.ReadTimeout:\n",
    "        # If a timeout occurs, return np.nan (or any other appropriate fallback)\n",
    "        return np.nan\n",
    "\n",
    "    sel = Selector(response.text)\n",
    "    # Extract the price using the \"content\" attribute from the <div> element.\n",
    "    price_text = sel.css(\"div.h1[itemprop='price']::attr(content)\").get(default=\"\").strip()\n",
    "    \n",
    "    return price_text\n",
    "\n"
   ]
  },
  {
   "cell_type": "code",
   "execution_count": 13,
   "id": "05086e40-cd5c-45d5-a371-47bb8464552c",
   "metadata": {},
   "outputs": [
    {
     "name": "stdout",
     "output_type": "stream",
     "text": [
      "Product Price: 979.00\n"
     ]
    }
   ],
   "source": [
    "import httpx\n",
    "import numpy as np\n",
    "import pandas as pd\n",
    "from parsel import Selector\n",
    "\n",
    "def get_metweld_price(url: str) -> str:\n",
    "    \"\"\"\n",
    "    Fetch the product page from the given URL and return the product price as a string.\n",
    "    The price is stored in an element like:\n",
    "    \n",
    "    <span data-product-price-with-tax=\"\" class=\"price price--withTax\">$979.00</span>\n",
    "    \n",
    "    Returns np.nan for any failure.\n",
    "    \"\"\"\n",
    "    # Validate URL\n",
    "    if pd.isna(url) or not isinstance(url, str) or url.strip() == \"\":\n",
    "        return np.nan\n",
    "    if len(url) == 0:\n",
    "        return np.nan\n",
    "    if not url.startswith(\"https://metweld.com.au/\"):\n",
    "        return np.nan\n",
    "\n",
    "    try:\n",
    "        # Create an HTTP client with browser-like headers\n",
    "        with httpx.Client(\n",
    "            headers={\n",
    "                \"User-Agent\": (\"Mozilla/5.0 (Windows NT 10.0; Win64; x64) \"\n",
    "                               \"AppleWebKit/537.36 (KHTML, like Gecko) \"\n",
    "                               \"Chrome/113.0.0.0 Safari/537.36\"),\n",
    "                \"Accept\": \"text/html,application/xhtml+xml,application/xml;q=0.9,image/webp,*/*;q=0.8\",\n",
    "            },\n",
    "            follow_redirects=True\n",
    "        ) as session:\n",
    "            # Fetch the page with a 15-second timeout\n",
    "            response = session.get(url, timeout=15.0)\n",
    "    except (httpx.ReadTimeout, Exception):\n",
    "        return np.nan\n",
    "\n",
    "    sel = Selector(response.text)\n",
    "    # Helper function for CSS selection\n",
    "    css = lambda query: sel.css(query).get(default=\"\").strip()\n",
    "    \n",
    "    # Extract the price text from the <span> element\n",
    "    price_text = css(\"span.price.price--withTax::text\")\n",
    "    \n",
    "    # Remove a leading currency symbol if present\n",
    "    if price_text.startswith(\"$\"):\n",
    "        price_text = price_text[1:]\n",
    "    \n",
    "    return price_text\n",
    "\n",
    "# Example usage:\n",
    "if __name__ == \"__main__\":\n",
    "    url = \"https://metweld.com.au/viper-185-mig-tig-stick-welder/\"\n",
    "    price = get_metweld_price(url)\n",
    "    print(\"Product Price:\", price)\n"
   ]
  },
  {
   "cell_type": "code",
   "execution_count": 14,
   "id": "6858dbf1-6ecf-4be6-8ff5-c047815f62c0",
   "metadata": {},
   "outputs": [
    {
     "name": "stdout",
     "output_type": "stream",
     "text": [
      "399.00\n"
     ]
    }
   ],
   "source": [
    "import httpx\n",
    "import numpy as np\n",
    "import pandas as pd\n",
    "from parsel import Selector\n",
    "\n",
    "def get_toolkitdepot_price(url: str) -> str:\n",
    "    # Validate URL\n",
    "    if pd.isna(url) or not isinstance(url, str) or url.strip() == \"\":\n",
    "        return np.nan\n",
    "    if not url.startswith(\"https://toolkitdepot.com.au/\"):\n",
    "        return np.nan\n",
    "\n",
    "    try:\n",
    "        # Create an HTTP client with browser-like headers.\n",
    "        with httpx.Client(\n",
    "            headers={\n",
    "                \"User-Agent\": (\n",
    "                    \"Mozilla/5.0 (Windows NT 10.0; Win64; x64) \"\n",
    "                    \"AppleWebKit/537.36 (KHTML, like Gecko) \"\n",
    "                    \"Chrome/113.0.0.0 Safari/537.36\"\n",
    "                ),\n",
    "                \"Accept\": \"text/html,application/xhtml+xml,application/xml;q=0.9,image/webp,*/*;q=0.8\",\n",
    "            },\n",
    "            follow_redirects=True\n",
    "        ) as session:\n",
    "            # Fetch the page (timeout=15 seconds)\n",
    "            response = session.get(url, timeout=15.0)\n",
    "    except (httpx.ReadTimeout, Exception) as e:\n",
    "        #print(\"Error fetching the page:\", e)\n",
    "        return np.nan\n",
    "\n",
    "    # Print debug info about response length (optional)\n",
    "    #print(\"DEBUG: Response length =\", len(response.text), \"characters\")\n",
    "\n",
    "    # Parse the HTML response using Parsel\n",
    "    sel = Selector(response.text)\n",
    "\n",
    "    # Try to extract the price by selecting the nested <span> inside the price container.\n",
    "    price_text = sel.css(\"span.price.price--withTax span::text\").get(default=\"\").strip()\n",
    "    \n",
    "    # Fallback: if the above selector returns empty, concatenate all text nodes within the element.\n",
    "    if not price_text:\n",
    "        price_text = \"\".join(sel.css(\"span.price.price--withTax ::text\").getall()).strip()\n",
    "\n",
    "    # Remove a leading currency symbol if present\n",
    "    if price_text.startswith(\"$\"):\n",
    "        price_text = price_text[1:]\n",
    "    \n",
    "    return price_text\n",
    "\n",
    "if __name__ == \"__main__\":\n",
    "    url = \"https://toolkitdepot.com.au/unimig-viper-multi-135-mig-tig-stick-welder-u11005k/\"\n",
    "    price = get_toolkitdepot_price(url)\n",
    "    print(price)\n"
   ]
  },
  {
   "cell_type": "code",
   "execution_count": 15,
   "id": "9511e3e5",
   "metadata": {},
   "outputs": [
    {
     "data": {
      "text/html": [
       "<div>\n",
       "<style scoped>\n",
       "    .dataframe tbody tr th:only-of-type {\n",
       "        vertical-align: middle;\n",
       "    }\n",
       "\n",
       "    .dataframe tbody tr th {\n",
       "        vertical-align: top;\n",
       "    }\n",
       "\n",
       "    .dataframe thead th {\n",
       "        text-align: right;\n",
       "    }\n",
       "</style>\n",
       "<table border=\"1\" class=\"dataframe\">\n",
       "  <thead>\n",
       "    <tr style=\"text-align: right;\">\n",
       "      <th></th>\n",
       "      <th>BRAND</th>\n",
       "      <th>PRODUCT SKU</th>\n",
       "      <th>PRODUCT NAME</th>\n",
       "      <th>Shop Name</th>\n",
       "      <th>PRODUCT LINK</th>\n",
       "      <th>Note</th>\n",
       "      <th>BUNDLE LINK</th>\n",
       "      <th>Comment</th>\n",
       "    </tr>\n",
       "  </thead>\n",
       "  <tbody>\n",
       "    <tr>\n",
       "      <th>0</th>\n",
       "      <td>Unimig</td>\n",
       "      <td>U11005K</td>\n",
       "      <td>VIPER 135</td>\n",
       "      <td>ELECTROWELD WEBSITE</td>\n",
       "      <td>https://www.electroweld.com.au/product/unimig-...</td>\n",
       "      <td>NaN</td>\n",
       "      <td>NaN</td>\n",
       "      <td>NaN</td>\n",
       "    </tr>\n",
       "    <tr>\n",
       "      <th>1</th>\n",
       "      <td>Unimig</td>\n",
       "      <td>U11005K</td>\n",
       "      <td>VIPER 135</td>\n",
       "      <td>ELECTROWELD EBAY</td>\n",
       "      <td>https://www.ebay.com.au/itm/275880137475?itmme...</td>\n",
       "      <td>NaN</td>\n",
       "      <td>NaN</td>\n",
       "      <td>NaN</td>\n",
       "    </tr>\n",
       "    <tr>\n",
       "      <th>2</th>\n",
       "      <td>Unimig</td>\n",
       "      <td>U11005K</td>\n",
       "      <td>VIPER 135</td>\n",
       "      <td>HAMPDON EBAY</td>\n",
       "      <td>https://www.ebay.com.au/sch/i.html?_from=R40&amp;_...</td>\n",
       "      <td>NaN</td>\n",
       "      <td>NaN</td>\n",
       "      <td>NaN</td>\n",
       "    </tr>\n",
       "    <tr>\n",
       "      <th>3</th>\n",
       "      <td>Unimig</td>\n",
       "      <td>U11005K</td>\n",
       "      <td>VIPER 135</td>\n",
       "      <td>WA INDUSTRIAL SUPPLIES WEBSITE</td>\n",
       "      <td>https://www.waindustrialsupplies.net/product/v...</td>\n",
       "      <td>NaN</td>\n",
       "      <td>NaN</td>\n",
       "      <td>NaN</td>\n",
       "    </tr>\n",
       "    <tr>\n",
       "      <th>4</th>\n",
       "      <td>Unimig</td>\n",
       "      <td>U11005K</td>\n",
       "      <td>VIPER 135</td>\n",
       "      <td>WA INDUSTRIAL SUPPLIES EBAY</td>\n",
       "      <td>https://www.ebay.com.au/itm/186207493192?epid=...</td>\n",
       "      <td>NaN</td>\n",
       "      <td>NaN</td>\n",
       "      <td>NaN</td>\n",
       "    </tr>\n",
       "  </tbody>\n",
       "</table>\n",
       "</div>"
      ],
      "text/plain": [
       "    BRAND PRODUCT SKU PRODUCT NAME                       Shop Name  \\\n",
       "0  Unimig     U11005K    VIPER 135             ELECTROWELD WEBSITE   \n",
       "1  Unimig     U11005K    VIPER 135                ELECTROWELD EBAY   \n",
       "2  Unimig     U11005K    VIPER 135                    HAMPDON EBAY   \n",
       "3  Unimig     U11005K    VIPER 135  WA INDUSTRIAL SUPPLIES WEBSITE   \n",
       "4  Unimig     U11005K    VIPER 135     WA INDUSTRIAL SUPPLIES EBAY   \n",
       "\n",
       "                                        PRODUCT LINK Note BUNDLE LINK Comment  \n",
       "0  https://www.electroweld.com.au/product/unimig-...  NaN         NaN     NaN  \n",
       "1  https://www.ebay.com.au/itm/275880137475?itmme...  NaN         NaN     NaN  \n",
       "2  https://www.ebay.com.au/sch/i.html?_from=R40&_...  NaN         NaN     NaN  \n",
       "3  https://www.waindustrialsupplies.net/product/v...  NaN         NaN     NaN  \n",
       "4  https://www.ebay.com.au/itm/186207493192?epid=...  NaN         NaN     NaN  "
      ]
     },
     "execution_count": 15,
     "metadata": {},
     "output_type": "execute_result"
    }
   ],
   "source": [
    "df_sub.head()"
   ]
  },
  {
   "cell_type": "code",
   "execution_count": 19,
   "id": "f773e085-3812-494b-acb2-3068f8a5f2f1",
   "metadata": {},
   "outputs": [
    {
     "name": "stderr",
     "output_type": "stream",
     "text": [
      "/var/folders/t1/nz7bssws0lq083n8ks9zxkmw0000gn/T/ipykernel_44521/735547577.py:1: SettingWithCopyWarning: \n",
      "A value is trying to be set on a copy of a slice from a DataFrame.\n",
      "Try using .loc[row_indexer,col_indexer] = value instead\n",
      "\n",
      "See the caveats in the documentation: https://pandas.pydata.org/pandas-docs/stable/user_guide/indexing.html#returning-a-view-versus-a-copy\n",
      "  df_biba_website['Price']= df_biba_website['PRODUCT LINK'].apply(get_bilba_website_price)\n",
      "/var/folders/t1/nz7bssws0lq083n8ks9zxkmw0000gn/T/ipykernel_44521/735547577.py:2: SettingWithCopyWarning: \n",
      "A value is trying to be set on a copy of a slice from a DataFrame.\n",
      "Try using .loc[row_indexer,col_indexer] = value instead\n",
      "\n",
      "See the caveats in the documentation: https://pandas.pydata.org/pandas-docs/stable/user_guide/indexing.html#returning-a-view-versus-a-copy\n",
      "  df_biba_website['Price_Bundle']= df_biba_website['BUNDLE LINK'].apply(get_bilba_website_price)\n"
     ]
    }
   ],
   "source": [
    "df_biba_website = df_sub[\n",
    "    df_sub['Shop Name'].str.contains('Bilba', case=False, na=False) &\n",
    "    ~df_sub['Shop Name'].str.contains('BILBA EBAY', case=False, na=False)\n",
    "]\n",
    "df_biba_website['Price']= df_biba_website['PRODUCT LINK'].apply(get_bilba_website_price)\n",
    "df_biba_website['Price_Bundle']= df_biba_website['BUNDLE LINK'].apply(get_bilba_website_price)"
   ]
  },
  {
   "cell_type": "code",
   "execution_count": 20,
   "id": "80e432ba-b89e-43f2-a4bd-85fd7d975a9a",
   "metadata": {},
   "outputs": [
    {
     "name": "stderr",
     "output_type": "stream",
     "text": [
      "/var/folders/t1/nz7bssws0lq083n8ks9zxkmw0000gn/T/ipykernel_44521/2090678223.py:1: SettingWithCopyWarning: \n",
      "A value is trying to be set on a copy of a slice from a DataFrame.\n",
      "Try using .loc[row_indexer,col_indexer] = value instead\n",
      "\n",
      "See the caveats in the documentation: https://pandas.pydata.org/pandas-docs/stable/user_guide/indexing.html#returning-a-view-versus-a-copy\n",
      "  df_electroweld_website['Price']= df_electroweld_website['PRODUCT LINK'].apply(get_electroweld_website_price)\n",
      "/var/folders/t1/nz7bssws0lq083n8ks9zxkmw0000gn/T/ipykernel_44521/2090678223.py:2: SettingWithCopyWarning: \n",
      "A value is trying to be set on a copy of a slice from a DataFrame.\n",
      "Try using .loc[row_indexer,col_indexer] = value instead\n",
      "\n",
      "See the caveats in the documentation: https://pandas.pydata.org/pandas-docs/stable/user_guide/indexing.html#returning-a-view-versus-a-copy\n",
      "  df_electroweld_website['Price_Bundle']= df_electroweld_website['BUNDLE LINK'].apply(get_electroweld_website_price)\n"
     ]
    }
   ],
   "source": [
    "df_electroweld_website = df_sub[df_sub['Shop Name'].str.contains('electroweld website', case=False, na=False, regex=True)]\n",
    "df_electroweld_website['Price']= df_electroweld_website['PRODUCT LINK'].apply(get_electroweld_website_price)\n",
    "df_electroweld_website['Price_Bundle']= df_electroweld_website['BUNDLE LINK'].apply(get_electroweld_website_price)"
   ]
  },
  {
   "cell_type": "code",
   "execution_count": 21,
   "id": "552d561d",
   "metadata": {},
   "outputs": [
    {
     "name": "stderr",
     "output_type": "stream",
     "text": [
      "/var/folders/t1/nz7bssws0lq083n8ks9zxkmw0000gn/T/ipykernel_44521/2462847340.py:2: SettingWithCopyWarning: \n",
      "A value is trying to be set on a copy of a slice from a DataFrame.\n",
      "Try using .loc[row_indexer,col_indexer] = value instead\n",
      "\n",
      "See the caveats in the documentation: https://pandas.pydata.org/pandas-docs/stable/user_guide/indexing.html#returning-a-view-versus-a-copy\n",
      "  df_ebay['Price']= df_ebay['PRODUCT LINK'].apply(get_ebay_price)\n",
      "/var/folders/t1/nz7bssws0lq083n8ks9zxkmw0000gn/T/ipykernel_44521/2462847340.py:3: SettingWithCopyWarning: \n",
      "A value is trying to be set on a copy of a slice from a DataFrame.\n",
      "Try using .loc[row_indexer,col_indexer] = value instead\n",
      "\n",
      "See the caveats in the documentation: https://pandas.pydata.org/pandas-docs/stable/user_guide/indexing.html#returning-a-view-versus-a-copy\n",
      "  df_ebay['Price_Bundle']= df_ebay['BUNDLE LINK'].apply(get_ebay_price)\n"
     ]
    }
   ],
   "source": [
    "# Subset dataframe to retain only EBAY shop records\n",
    "df_ebay = df_sub[df_sub['Shop Name'].str.contains('EBAY', case=False, na=False, regex=True)]\n",
    "# Apply the get_ebay_price() on entire ebad df for fetching price for all applicable url rows\n",
    "df_ebay['Price']= df_ebay['PRODUCT LINK'].apply(get_ebay_price)\n",
    "df_ebay['Price_Bundle']= df_ebay['BUNDLE LINK'].apply(get_ebay_price)"
   ]
  },
  {
   "cell_type": "code",
   "execution_count": 22,
   "id": "757fb8f4-9c1c-42e0-b0e1-9524e2cc1470",
   "metadata": {},
   "outputs": [
    {
     "name": "stderr",
     "output_type": "stream",
     "text": [
      "/var/folders/t1/nz7bssws0lq083n8ks9zxkmw0000gn/T/ipykernel_44521/2789824565.py:2: SettingWithCopyWarning: \n",
      "A value is trying to be set on a copy of a slice from a DataFrame.\n",
      "Try using .loc[row_indexer,col_indexer] = value instead\n",
      "\n",
      "See the caveats in the documentation: https://pandas.pydata.org/pandas-docs/stable/user_guide/indexing.html#returning-a-view-versus-a-copy\n",
      "  df_gentronics['Price']= df_gentronics['PRODUCT LINK'].apply(get_gentronics_website_price)\n",
      "/var/folders/t1/nz7bssws0lq083n8ks9zxkmw0000gn/T/ipykernel_44521/2789824565.py:3: SettingWithCopyWarning: \n",
      "A value is trying to be set on a copy of a slice from a DataFrame.\n",
      "Try using .loc[row_indexer,col_indexer] = value instead\n",
      "\n",
      "See the caveats in the documentation: https://pandas.pydata.org/pandas-docs/stable/user_guide/indexing.html#returning-a-view-versus-a-copy\n",
      "  df_gentronics['Price_Bundle']= df_gentronics['BUNDLE LINK'].apply(get_gentronics_website_price)\n"
     ]
    }
   ],
   "source": [
    "df_gentronics = df_sub[df_sub['Shop Name'].str.contains('GENTRONICS', case=False, na=False, regex=True)]\n",
    "df_gentronics['Price']= df_gentronics['PRODUCT LINK'].apply(get_gentronics_website_price)\n",
    "df_gentronics['Price_Bundle']= df_gentronics['BUNDLE LINK'].apply(get_gentronics_website_price)"
   ]
  },
  {
   "cell_type": "code",
   "execution_count": 23,
   "id": "017b15ab-41bb-4d37-ac41-cd5acdd9a479",
   "metadata": {},
   "outputs": [
    {
     "name": "stderr",
     "output_type": "stream",
     "text": [
      "/var/folders/t1/nz7bssws0lq083n8ks9zxkmw0000gn/T/ipykernel_44521/1885032458.py:2: SettingWithCopyWarning: \n",
      "A value is trying to be set on a copy of a slice from a DataFrame.\n",
      "Try using .loc[row_indexer,col_indexer] = value instead\n",
      "\n",
      "See the caveats in the documentation: https://pandas.pydata.org/pandas-docs/stable/user_guide/indexing.html#returning-a-view-versus-a-copy\n",
      "  df_weldconnect['Price']= df_weldconnect['PRODUCT LINK'].apply(get_weldconnect_price)\n",
      "/var/folders/t1/nz7bssws0lq083n8ks9zxkmw0000gn/T/ipykernel_44521/1885032458.py:3: SettingWithCopyWarning: \n",
      "A value is trying to be set on a copy of a slice from a DataFrame.\n",
      "Try using .loc[row_indexer,col_indexer] = value instead\n",
      "\n",
      "See the caveats in the documentation: https://pandas.pydata.org/pandas-docs/stable/user_guide/indexing.html#returning-a-view-versus-a-copy\n",
      "  df_weldconnect['Price_Bundle']= df_weldconnect['BUNDLE LINK'].apply(get_weldconnect_price)\n"
     ]
    }
   ],
   "source": [
    "df_weldconnect = df_sub[df_sub['Shop Name'].str.contains('WELDCONNECT', case=False, na=False, regex=True)]\n",
    "df_weldconnect['Price']= df_weldconnect['PRODUCT LINK'].apply(get_weldconnect_price)\n",
    "df_weldconnect['Price_Bundle']= df_weldconnect['BUNDLE LINK'].apply(get_weldconnect_price)"
   ]
  },
  {
   "cell_type": "code",
   "execution_count": 24,
   "id": "8c5d5424-79d5-402e-abe2-19de6e98a515",
   "metadata": {},
   "outputs": [
    {
     "name": "stderr",
     "output_type": "stream",
     "text": [
      "/var/folders/t1/nz7bssws0lq083n8ks9zxkmw0000gn/T/ipykernel_44521/1079567426.py:2: SettingWithCopyWarning: \n",
      "A value is trying to be set on a copy of a slice from a DataFrame.\n",
      "Try using .loc[row_indexer,col_indexer] = value instead\n",
      "\n",
      "See the caveats in the documentation: https://pandas.pydata.org/pandas-docs/stable/user_guide/indexing.html#returning-a-view-versus-a-copy\n",
      "  df_weld_com['Price']= df_weld_com['PRODUCT LINK'].apply(get_weld_com_au_price)\n",
      "/var/folders/t1/nz7bssws0lq083n8ks9zxkmw0000gn/T/ipykernel_44521/1079567426.py:3: SettingWithCopyWarning: \n",
      "A value is trying to be set on a copy of a slice from a DataFrame.\n",
      "Try using .loc[row_indexer,col_indexer] = value instead\n",
      "\n",
      "See the caveats in the documentation: https://pandas.pydata.org/pandas-docs/stable/user_guide/indexing.html#returning-a-view-versus-a-copy\n",
      "  df_weld_com['Price_Bundle']= df_weld_com['BUNDLE LINK'].apply(get_weld_com_au_price)\n"
     ]
    }
   ],
   "source": [
    "df_weld_com = df_sub[df_sub['Shop Name'].str.contains('WELD.COM.AU', case=False, na=False, regex=True)]\n",
    "df_weld_com['Price']= df_weld_com['PRODUCT LINK'].apply(get_weld_com_au_price)\n",
    "df_weld_com['Price_Bundle']= df_weld_com['BUNDLE LINK'].apply(get_weld_com_au_price)"
   ]
  },
  {
   "cell_type": "code",
   "execution_count": 25,
   "id": "66e26e3a-59ce-4727-bd01-40fe6b739190",
   "metadata": {},
   "outputs": [
    {
     "name": "stderr",
     "output_type": "stream",
     "text": [
      "/var/folders/t1/nz7bssws0lq083n8ks9zxkmw0000gn/T/ipykernel_44521/514020751.py:2: SettingWithCopyWarning: \n",
      "A value is trying to be set on a copy of a slice from a DataFrame.\n",
      "Try using .loc[row_indexer,col_indexer] = value instead\n",
      "\n",
      "See the caveats in the documentation: https://pandas.pydata.org/pandas-docs/stable/user_guide/indexing.html#returning-a-view-versus-a-copy\n",
      "  df_metro_welder_service['Price']= df_metro_welder_service['PRODUCT LINK'].apply(get_metweld_price)\n",
      "/var/folders/t1/nz7bssws0lq083n8ks9zxkmw0000gn/T/ipykernel_44521/514020751.py:3: SettingWithCopyWarning: \n",
      "A value is trying to be set on a copy of a slice from a DataFrame.\n",
      "Try using .loc[row_indexer,col_indexer] = value instead\n",
      "\n",
      "See the caveats in the documentation: https://pandas.pydata.org/pandas-docs/stable/user_guide/indexing.html#returning-a-view-versus-a-copy\n",
      "  df_metro_welder_service['Price_Bundle']= df_metro_welder_service['BUNDLE LINK'].apply(get_metweld_price)\n"
     ]
    }
   ],
   "source": [
    "df_metro_welder_service = df_sub[df_sub['Shop Name'].str.contains('METRO WELDER SERVICE', case=False, na=False, regex=True)]\n",
    "df_metro_welder_service['Price']= df_metro_welder_service['PRODUCT LINK'].apply(get_metweld_price)\n",
    "df_metro_welder_service['Price_Bundle']= df_metro_welder_service['BUNDLE LINK'].apply(get_metweld_price)\n"
   ]
  },
  {
   "cell_type": "code",
   "execution_count": null,
   "id": "2a5cc5dc-174d-4a0d-85cd-eabcb770b112",
   "metadata": {},
   "outputs": [],
   "source": [
    "df_toolkit_depot = df_sub[df_sub['Shop Name'].str.contains('TKD', case=False, na=False, regex=True)]\n",
    "df_toolkit_depot['Price']= df_toolkit_depot['PRODUCT LINK'].apply(get_toolkitdepot_price)\n",
    "df_toolkit_depot['Price_Bundle']= df_toolkit_depot['BUNDLE LINK'].apply(get_toolkitdepot_price)\n",
    "df_toolkit_depot"
   ]
  },
  {
   "cell_type": "code",
   "execution_count": 27,
   "id": "62d71bdb-f260-4823-8eac-0cd11567703a",
   "metadata": {},
   "outputs": [],
   "source": [
    "combined_df = pd.concat([df_ebay, df_electroweld_website, df_biba_website,df_gentronics,df_weld_com,df_weldconnect,df_metro_welder_service,df_toolkit_depot], ignore_index=True)\n",
    "\n",
    "# Sort the combined dataframe by the \"PRODUCT NAME\" column\n",
    "combined_df.sort_values(\"PRODUCT NAME\", inplace=True)"
   ]
  },
  {
   "cell_type": "code",
   "execution_count": 28,
   "id": "236e9bfc-a09f-4c4f-b2cf-1811d7b67736",
   "metadata": {},
   "outputs": [
    {
     "name": "stdout",
     "output_type": "stream",
     "text": [
      "<class 'pandas.core.frame.DataFrame'>\n",
      "Index: 1455 entries, 90 to 1413\n",
      "Data columns (total 10 columns):\n",
      " #   Column        Non-Null Count  Dtype \n",
      "---  ------        --------------  ----- \n",
      " 0   BRAND         1455 non-null   object\n",
      " 1   PRODUCT SKU   1455 non-null   object\n",
      " 2   PRODUCT NAME  1455 non-null   object\n",
      " 3   Shop Name     1455 non-null   object\n",
      " 4   PRODUCT LINK  781 non-null    object\n",
      " 5   Note          13 non-null     object\n",
      " 6   BUNDLE LINK   10 non-null     object\n",
      " 7   Comment       5 non-null      object\n",
      " 8   Price         207 non-null    object\n",
      " 9   Price_Bundle  1 non-null      object\n",
      "dtypes: object(10)\n",
      "memory usage: 125.0+ KB\n"
     ]
    }
   ],
   "source": [
    "combined_df.info()"
   ]
  },
  {
   "cell_type": "code",
   "execution_count": 29,
   "id": "42a861c7-c542-43bb-843e-9c4224c9f749",
   "metadata": {},
   "outputs": [],
   "source": [
    "combined_df.to_csv('combined.csv',index=False)"
   ]
  },
  {
   "cell_type": "code",
   "execution_count": 30,
   "id": "0d25930b-c4fe-4856-8687-1a77bb3602fb",
   "metadata": {},
   "outputs": [
    {
     "name": "stdout",
     "output_type": "stream",
     "text": [
      "HAMPDON EBAY\n",
      "PRIME SUPPLIES\n",
      "WA INDUSTRIAL SUPPLIES EBAY\n",
      "WA INDUSTRIAL SUPPLIES WEBSITE\n",
      "ELECTROWELD EBAY\n",
      "ELECTROWELD WEBSITE\n",
      "HAMPDON WEBSITE\n",
      "HARE AND FORBES\n",
      "TKD\n",
      "ACL INDUSTRIAL TECHNOLOGY\n",
      "NATIONAL WELDING EBAY\n",
      "BILBA EBAY\n",
      "METRO WELDER SERVICE\n",
      "BILBA\n",
      "WELDCONNECT\n",
      "WELD.COM.AU\n",
      "SUPERCHEAP AUTO\n",
      "GENTRONICS\n",
      "TRADE TOOLS\n",
      "AUSTRALIA INDUSTRIAL GROUP\n",
      "SYDNEY TOOLS\n",
      "WELDERS ONLINE\n",
      "A&S WELDING\n",
      "KENNEDY'S WELDING SUPPLIES\n",
      "ALPHAWELD\n",
      "NATIONAL WELDING\n",
      "VEK TOOLS\n",
      "TOTAL TOOLS\n",
      "TOOLS WAREHOUSE\n",
      "WELD.COM.AU (ARC-I)\n"
     ]
    }
   ],
   "source": [
    "completed_unique_shops = combined_df['Shop Name'].unique()\n",
    "for i in completed_unique_shops:\n",
    "    print(i)"
   ]
  },
  {
   "cell_type": "code",
   "execution_count": 31,
   "id": "3e495186-135e-4e03-a232-20a937830aa4",
   "metadata": {},
   "outputs": [],
   "source": [
    "unique_shops = df_sub['Shop Name'].unique()"
   ]
  },
  {
   "cell_type": "code",
   "execution_count": 32,
   "id": "a0527685-a8ac-488d-9002-52fad90c50d0",
   "metadata": {},
   "outputs": [
    {
     "name": "stdout",
     "output_type": "stream",
     "text": [
      "nan\n",
      "1/30\n"
     ]
    }
   ],
   "source": [
    "not_completed = list(set(unique_shops) - set(completed_unique_shops)-set(\"nan\"))\n",
    "for i in not_completed:\n",
    "    print(i)\n",
    "print(str(len(not_completed))+\"/\"+str((len(unique_shops)-1)))"
   ]
  },
  {
   "cell_type": "code",
   "execution_count": null,
   "id": "db9dfd97-0495-40ad-bc6d-5acd6dc2d941",
   "metadata": {},
   "outputs": [],
   "source": []
  },
  {
   "cell_type": "code",
   "execution_count": null,
   "id": "3fee6adb-83b4-4c47-bc6a-a0ddf0505bb1",
   "metadata": {},
   "outputs": [],
   "source": []
  }
 ],
 "metadata": {
  "kernelspec": {
   "display_name": "Python 3 (ipykernel)",
   "language": "python",
   "name": "python3"
  },
  "language_info": {
   "codemirror_mode": {
    "name": "ipython",
    "version": 3
   },
   "file_extension": ".py",
   "mimetype": "text/x-python",
   "name": "python",
   "nbconvert_exporter": "python",
   "pygments_lexer": "ipython3",
   "version": "3.11.5"
  }
 },
 "nbformat": 4,
 "nbformat_minor": 5
}
